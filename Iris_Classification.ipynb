{
  "nbformat": 4,
  "nbformat_minor": 0,
  "metadata": {
    "colab": {
      "provenance": []
    },
    "kernelspec": {
      "name": "python3",
      "display_name": "Python 3"
    },
    "language_info": {
      "name": "python"
    }
  },
  "cells": [
    {
      "cell_type": "code",
      "execution_count": 100,
      "metadata": {
        "id": "oaoCYw0xCB7i"
      },
      "outputs": [],
      "source": [
        "import pandas as pd\n",
        "import numpy as np\n",
        "import seaborn as sns\n",
        "import matplotlib.pyplot as plt\n",
        "%matplotlib inline"
      ]
    },
    {
      "cell_type": "code",
      "source": [
        "df = pd.read_csv(\"/content/IRIS.csv\")\n",
        "df.head()"
      ],
      "metadata": {
        "colab": {
          "base_uri": "https://localhost:8080/",
          "height": 206
        },
        "id": "Ni6jeyBXCT34",
        "outputId": "df482c29-bf20-45dc-e20f-632883a2ec44"
      },
      "execution_count": 101,
      "outputs": [
        {
          "output_type": "execute_result",
          "data": {
            "text/plain": [
              "   sepal_length  sepal_width  petal_length  petal_width      species\n",
              "0           5.1          3.5           1.4          0.2  Iris-setosa\n",
              "1           4.9          3.0           1.4          0.2  Iris-setosa\n",
              "2           4.7          3.2           1.3          0.2  Iris-setosa\n",
              "3           4.6          3.1           1.5          0.2  Iris-setosa\n",
              "4           5.0          3.6           1.4          0.2  Iris-setosa"
            ],
            "text/html": [
              "\n",
              "  <div id=\"df-502fbdeb-d849-4fec-a48e-e7226ac6a060\" class=\"colab-df-container\">\n",
              "    <div>\n",
              "<style scoped>\n",
              "    .dataframe tbody tr th:only-of-type {\n",
              "        vertical-align: middle;\n",
              "    }\n",
              "\n",
              "    .dataframe tbody tr th {\n",
              "        vertical-align: top;\n",
              "    }\n",
              "\n",
              "    .dataframe thead th {\n",
              "        text-align: right;\n",
              "    }\n",
              "</style>\n",
              "<table border=\"1\" class=\"dataframe\">\n",
              "  <thead>\n",
              "    <tr style=\"text-align: right;\">\n",
              "      <th></th>\n",
              "      <th>sepal_length</th>\n",
              "      <th>sepal_width</th>\n",
              "      <th>petal_length</th>\n",
              "      <th>petal_width</th>\n",
              "      <th>species</th>\n",
              "    </tr>\n",
              "  </thead>\n",
              "  <tbody>\n",
              "    <tr>\n",
              "      <th>0</th>\n",
              "      <td>5.1</td>\n",
              "      <td>3.5</td>\n",
              "      <td>1.4</td>\n",
              "      <td>0.2</td>\n",
              "      <td>Iris-setosa</td>\n",
              "    </tr>\n",
              "    <tr>\n",
              "      <th>1</th>\n",
              "      <td>4.9</td>\n",
              "      <td>3.0</td>\n",
              "      <td>1.4</td>\n",
              "      <td>0.2</td>\n",
              "      <td>Iris-setosa</td>\n",
              "    </tr>\n",
              "    <tr>\n",
              "      <th>2</th>\n",
              "      <td>4.7</td>\n",
              "      <td>3.2</td>\n",
              "      <td>1.3</td>\n",
              "      <td>0.2</td>\n",
              "      <td>Iris-setosa</td>\n",
              "    </tr>\n",
              "    <tr>\n",
              "      <th>3</th>\n",
              "      <td>4.6</td>\n",
              "      <td>3.1</td>\n",
              "      <td>1.5</td>\n",
              "      <td>0.2</td>\n",
              "      <td>Iris-setosa</td>\n",
              "    </tr>\n",
              "    <tr>\n",
              "      <th>4</th>\n",
              "      <td>5.0</td>\n",
              "      <td>3.6</td>\n",
              "      <td>1.4</td>\n",
              "      <td>0.2</td>\n",
              "      <td>Iris-setosa</td>\n",
              "    </tr>\n",
              "  </tbody>\n",
              "</table>\n",
              "</div>\n",
              "    <div class=\"colab-df-buttons\">\n",
              "\n",
              "  <div class=\"colab-df-container\">\n",
              "    <button class=\"colab-df-convert\" onclick=\"convertToInteractive('df-502fbdeb-d849-4fec-a48e-e7226ac6a060')\"\n",
              "            title=\"Convert this dataframe to an interactive table.\"\n",
              "            style=\"display:none;\">\n",
              "\n",
              "  <svg xmlns=\"http://www.w3.org/2000/svg\" height=\"24px\" viewBox=\"0 -960 960 960\">\n",
              "    <path d=\"M120-120v-720h720v720H120Zm60-500h600v-160H180v160Zm220 220h160v-160H400v160Zm0 220h160v-160H400v160ZM180-400h160v-160H180v160Zm440 0h160v-160H620v160ZM180-180h160v-160H180v160Zm440 0h160v-160H620v160Z\"/>\n",
              "  </svg>\n",
              "    </button>\n",
              "\n",
              "  <style>\n",
              "    .colab-df-container {\n",
              "      display:flex;\n",
              "      gap: 12px;\n",
              "    }\n",
              "\n",
              "    .colab-df-convert {\n",
              "      background-color: #E8F0FE;\n",
              "      border: none;\n",
              "      border-radius: 50%;\n",
              "      cursor: pointer;\n",
              "      display: none;\n",
              "      fill: #1967D2;\n",
              "      height: 32px;\n",
              "      padding: 0 0 0 0;\n",
              "      width: 32px;\n",
              "    }\n",
              "\n",
              "    .colab-df-convert:hover {\n",
              "      background-color: #E2EBFA;\n",
              "      box-shadow: 0px 1px 2px rgba(60, 64, 67, 0.3), 0px 1px 3px 1px rgba(60, 64, 67, 0.15);\n",
              "      fill: #174EA6;\n",
              "    }\n",
              "\n",
              "    .colab-df-buttons div {\n",
              "      margin-bottom: 4px;\n",
              "    }\n",
              "\n",
              "    [theme=dark] .colab-df-convert {\n",
              "      background-color: #3B4455;\n",
              "      fill: #D2E3FC;\n",
              "    }\n",
              "\n",
              "    [theme=dark] .colab-df-convert:hover {\n",
              "      background-color: #434B5C;\n",
              "      box-shadow: 0px 1px 3px 1px rgba(0, 0, 0, 0.15);\n",
              "      filter: drop-shadow(0px 1px 2px rgba(0, 0, 0, 0.3));\n",
              "      fill: #FFFFFF;\n",
              "    }\n",
              "  </style>\n",
              "\n",
              "    <script>\n",
              "      const buttonEl =\n",
              "        document.querySelector('#df-502fbdeb-d849-4fec-a48e-e7226ac6a060 button.colab-df-convert');\n",
              "      buttonEl.style.display =\n",
              "        google.colab.kernel.accessAllowed ? 'block' : 'none';\n",
              "\n",
              "      async function convertToInteractive(key) {\n",
              "        const element = document.querySelector('#df-502fbdeb-d849-4fec-a48e-e7226ac6a060');\n",
              "        const dataTable =\n",
              "          await google.colab.kernel.invokeFunction('convertToInteractive',\n",
              "                                                    [key], {});\n",
              "        if (!dataTable) return;\n",
              "\n",
              "        const docLinkHtml = 'Like what you see? Visit the ' +\n",
              "          '<a target=\"_blank\" href=https://colab.research.google.com/notebooks/data_table.ipynb>data table notebook</a>'\n",
              "          + ' to learn more about interactive tables.';\n",
              "        element.innerHTML = '';\n",
              "        dataTable['output_type'] = 'display_data';\n",
              "        await google.colab.output.renderOutput(dataTable, element);\n",
              "        const docLink = document.createElement('div');\n",
              "        docLink.innerHTML = docLinkHtml;\n",
              "        element.appendChild(docLink);\n",
              "      }\n",
              "    </script>\n",
              "  </div>\n",
              "\n",
              "\n",
              "<div id=\"df-ac84de92-02fa-4a4d-89bf-27163cff1b01\">\n",
              "  <button class=\"colab-df-quickchart\" onclick=\"quickchart('df-ac84de92-02fa-4a4d-89bf-27163cff1b01')\"\n",
              "            title=\"Suggest charts\"\n",
              "            style=\"display:none;\">\n",
              "\n",
              "<svg xmlns=\"http://www.w3.org/2000/svg\" height=\"24px\"viewBox=\"0 0 24 24\"\n",
              "     width=\"24px\">\n",
              "    <g>\n",
              "        <path d=\"M19 3H5c-1.1 0-2 .9-2 2v14c0 1.1.9 2 2 2h14c1.1 0 2-.9 2-2V5c0-1.1-.9-2-2-2zM9 17H7v-7h2v7zm4 0h-2V7h2v10zm4 0h-2v-4h2v4z\"/>\n",
              "    </g>\n",
              "</svg>\n",
              "  </button>\n",
              "\n",
              "<style>\n",
              "  .colab-df-quickchart {\n",
              "      --bg-color: #E8F0FE;\n",
              "      --fill-color: #1967D2;\n",
              "      --hover-bg-color: #E2EBFA;\n",
              "      --hover-fill-color: #174EA6;\n",
              "      --disabled-fill-color: #AAA;\n",
              "      --disabled-bg-color: #DDD;\n",
              "  }\n",
              "\n",
              "  [theme=dark] .colab-df-quickchart {\n",
              "      --bg-color: #3B4455;\n",
              "      --fill-color: #D2E3FC;\n",
              "      --hover-bg-color: #434B5C;\n",
              "      --hover-fill-color: #FFFFFF;\n",
              "      --disabled-bg-color: #3B4455;\n",
              "      --disabled-fill-color: #666;\n",
              "  }\n",
              "\n",
              "  .colab-df-quickchart {\n",
              "    background-color: var(--bg-color);\n",
              "    border: none;\n",
              "    border-radius: 50%;\n",
              "    cursor: pointer;\n",
              "    display: none;\n",
              "    fill: var(--fill-color);\n",
              "    height: 32px;\n",
              "    padding: 0;\n",
              "    width: 32px;\n",
              "  }\n",
              "\n",
              "  .colab-df-quickchart:hover {\n",
              "    background-color: var(--hover-bg-color);\n",
              "    box-shadow: 0 1px 2px rgba(60, 64, 67, 0.3), 0 1px 3px 1px rgba(60, 64, 67, 0.15);\n",
              "    fill: var(--button-hover-fill-color);\n",
              "  }\n",
              "\n",
              "  .colab-df-quickchart-complete:disabled,\n",
              "  .colab-df-quickchart-complete:disabled:hover {\n",
              "    background-color: var(--disabled-bg-color);\n",
              "    fill: var(--disabled-fill-color);\n",
              "    box-shadow: none;\n",
              "  }\n",
              "\n",
              "  .colab-df-spinner {\n",
              "    border: 2px solid var(--fill-color);\n",
              "    border-color: transparent;\n",
              "    border-bottom-color: var(--fill-color);\n",
              "    animation:\n",
              "      spin 1s steps(1) infinite;\n",
              "  }\n",
              "\n",
              "  @keyframes spin {\n",
              "    0% {\n",
              "      border-color: transparent;\n",
              "      border-bottom-color: var(--fill-color);\n",
              "      border-left-color: var(--fill-color);\n",
              "    }\n",
              "    20% {\n",
              "      border-color: transparent;\n",
              "      border-left-color: var(--fill-color);\n",
              "      border-top-color: var(--fill-color);\n",
              "    }\n",
              "    30% {\n",
              "      border-color: transparent;\n",
              "      border-left-color: var(--fill-color);\n",
              "      border-top-color: var(--fill-color);\n",
              "      border-right-color: var(--fill-color);\n",
              "    }\n",
              "    40% {\n",
              "      border-color: transparent;\n",
              "      border-right-color: var(--fill-color);\n",
              "      border-top-color: var(--fill-color);\n",
              "    }\n",
              "    60% {\n",
              "      border-color: transparent;\n",
              "      border-right-color: var(--fill-color);\n",
              "    }\n",
              "    80% {\n",
              "      border-color: transparent;\n",
              "      border-right-color: var(--fill-color);\n",
              "      border-bottom-color: var(--fill-color);\n",
              "    }\n",
              "    90% {\n",
              "      border-color: transparent;\n",
              "      border-bottom-color: var(--fill-color);\n",
              "    }\n",
              "  }\n",
              "</style>\n",
              "\n",
              "  <script>\n",
              "    async function quickchart(key) {\n",
              "      const quickchartButtonEl =\n",
              "        document.querySelector('#' + key + ' button');\n",
              "      quickchartButtonEl.disabled = true;  // To prevent multiple clicks.\n",
              "      quickchartButtonEl.classList.add('colab-df-spinner');\n",
              "      try {\n",
              "        const charts = await google.colab.kernel.invokeFunction(\n",
              "            'suggestCharts', [key], {});\n",
              "      } catch (error) {\n",
              "        console.error('Error during call to suggestCharts:', error);\n",
              "      }\n",
              "      quickchartButtonEl.classList.remove('colab-df-spinner');\n",
              "      quickchartButtonEl.classList.add('colab-df-quickchart-complete');\n",
              "    }\n",
              "    (() => {\n",
              "      let quickchartButtonEl =\n",
              "        document.querySelector('#df-ac84de92-02fa-4a4d-89bf-27163cff1b01 button');\n",
              "      quickchartButtonEl.style.display =\n",
              "        google.colab.kernel.accessAllowed ? 'block' : 'none';\n",
              "    })();\n",
              "  </script>\n",
              "</div>\n",
              "\n",
              "    </div>\n",
              "  </div>\n"
            ]
          },
          "metadata": {},
          "execution_count": 101
        }
      ]
    },
    {
      "cell_type": "code",
      "source": [
        "df.shape"
      ],
      "metadata": {
        "colab": {
          "base_uri": "https://localhost:8080/"
        },
        "id": "RfBzD1KGP9UK",
        "outputId": "2cc649fd-0e00-4ff7-cac0-650eda821665"
      },
      "execution_count": 102,
      "outputs": [
        {
          "output_type": "execute_result",
          "data": {
            "text/plain": [
              "(150, 5)"
            ]
          },
          "metadata": {},
          "execution_count": 102
        }
      ]
    },
    {
      "cell_type": "code",
      "source": [
        "df.nunique() # Unique values in all columns"
      ],
      "metadata": {
        "colab": {
          "base_uri": "https://localhost:8080/"
        },
        "id": "lSgttsaMQMZ7",
        "outputId": "7dcb3d63-ca30-4a6d-878e-659f53dea695"
      },
      "execution_count": 103,
      "outputs": [
        {
          "output_type": "execute_result",
          "data": {
            "text/plain": [
              "sepal_length    35\n",
              "sepal_width     23\n",
              "petal_length    43\n",
              "petal_width     22\n",
              "species          3\n",
              "dtype: int64"
            ]
          },
          "metadata": {},
          "execution_count": 103
        }
      ]
    },
    {
      "cell_type": "code",
      "source": [
        "df.isnull().sum() # No Missing Values"
      ],
      "metadata": {
        "colab": {
          "base_uri": "https://localhost:8080/"
        },
        "id": "CHzLO8PpQScL",
        "outputId": "7ea84866-60c9-4ff2-df5d-806edb2b732b"
      },
      "execution_count": 104,
      "outputs": [
        {
          "output_type": "execute_result",
          "data": {
            "text/plain": [
              "sepal_length    0\n",
              "sepal_width     0\n",
              "petal_length    0\n",
              "petal_width     0\n",
              "species         0\n",
              "dtype: int64"
            ]
          },
          "metadata": {},
          "execution_count": 104
        }
      ]
    },
    {
      "cell_type": "code",
      "source": [
        "df.info()"
      ],
      "metadata": {
        "colab": {
          "base_uri": "https://localhost:8080/"
        },
        "id": "KqRRm3XNOR4s",
        "outputId": "9c72b181-a108-4643-ad28-5b271b49887e"
      },
      "execution_count": 105,
      "outputs": [
        {
          "output_type": "stream",
          "name": "stdout",
          "text": [
            "<class 'pandas.core.frame.DataFrame'>\n",
            "RangeIndex: 150 entries, 0 to 149\n",
            "Data columns (total 5 columns):\n",
            " #   Column        Non-Null Count  Dtype  \n",
            "---  ------        --------------  -----  \n",
            " 0   sepal_length  150 non-null    float64\n",
            " 1   sepal_width   150 non-null    float64\n",
            " 2   petal_length  150 non-null    float64\n",
            " 3   petal_width   150 non-null    float64\n",
            " 4   species       150 non-null    object \n",
            "dtypes: float64(4), object(1)\n",
            "memory usage: 6.0+ KB\n"
          ]
        }
      ]
    },
    {
      "cell_type": "code",
      "source": [
        "df.duplicated().sum() # Duplicates"
      ],
      "metadata": {
        "colab": {
          "base_uri": "https://localhost:8080/"
        },
        "id": "818DmJNuQj7q",
        "outputId": "90b02526-93c7-4362-aa3d-4beb5bc71381"
      },
      "execution_count": 106,
      "outputs": [
        {
          "output_type": "execute_result",
          "data": {
            "text/plain": [
              "3"
            ]
          },
          "metadata": {},
          "execution_count": 106
        }
      ]
    },
    {
      "cell_type": "code",
      "source": [
        "df[df.duplicated()] # These are 3 duplicated rows"
      ],
      "metadata": {
        "colab": {
          "base_uri": "https://localhost:8080/",
          "height": 143
        },
        "id": "k_OOSzR6QxC0",
        "outputId": "89176499-7940-44e1-b662-b71ef679222f"
      },
      "execution_count": 107,
      "outputs": [
        {
          "output_type": "execute_result",
          "data": {
            "text/plain": [
              "     sepal_length  sepal_width  petal_length  petal_width         species\n",
              "34            4.9          3.1           1.5          0.1     Iris-setosa\n",
              "37            4.9          3.1           1.5          0.1     Iris-setosa\n",
              "142           5.8          2.7           5.1          1.9  Iris-virginica"
            ],
            "text/html": [
              "\n",
              "  <div id=\"df-563a4917-6592-4fe7-b9c8-3475ca3af5bf\" class=\"colab-df-container\">\n",
              "    <div>\n",
              "<style scoped>\n",
              "    .dataframe tbody tr th:only-of-type {\n",
              "        vertical-align: middle;\n",
              "    }\n",
              "\n",
              "    .dataframe tbody tr th {\n",
              "        vertical-align: top;\n",
              "    }\n",
              "\n",
              "    .dataframe thead th {\n",
              "        text-align: right;\n",
              "    }\n",
              "</style>\n",
              "<table border=\"1\" class=\"dataframe\">\n",
              "  <thead>\n",
              "    <tr style=\"text-align: right;\">\n",
              "      <th></th>\n",
              "      <th>sepal_length</th>\n",
              "      <th>sepal_width</th>\n",
              "      <th>petal_length</th>\n",
              "      <th>petal_width</th>\n",
              "      <th>species</th>\n",
              "    </tr>\n",
              "  </thead>\n",
              "  <tbody>\n",
              "    <tr>\n",
              "      <th>34</th>\n",
              "      <td>4.9</td>\n",
              "      <td>3.1</td>\n",
              "      <td>1.5</td>\n",
              "      <td>0.1</td>\n",
              "      <td>Iris-setosa</td>\n",
              "    </tr>\n",
              "    <tr>\n",
              "      <th>37</th>\n",
              "      <td>4.9</td>\n",
              "      <td>3.1</td>\n",
              "      <td>1.5</td>\n",
              "      <td>0.1</td>\n",
              "      <td>Iris-setosa</td>\n",
              "    </tr>\n",
              "    <tr>\n",
              "      <th>142</th>\n",
              "      <td>5.8</td>\n",
              "      <td>2.7</td>\n",
              "      <td>5.1</td>\n",
              "      <td>1.9</td>\n",
              "      <td>Iris-virginica</td>\n",
              "    </tr>\n",
              "  </tbody>\n",
              "</table>\n",
              "</div>\n",
              "    <div class=\"colab-df-buttons\">\n",
              "\n",
              "  <div class=\"colab-df-container\">\n",
              "    <button class=\"colab-df-convert\" onclick=\"convertToInteractive('df-563a4917-6592-4fe7-b9c8-3475ca3af5bf')\"\n",
              "            title=\"Convert this dataframe to an interactive table.\"\n",
              "            style=\"display:none;\">\n",
              "\n",
              "  <svg xmlns=\"http://www.w3.org/2000/svg\" height=\"24px\" viewBox=\"0 -960 960 960\">\n",
              "    <path d=\"M120-120v-720h720v720H120Zm60-500h600v-160H180v160Zm220 220h160v-160H400v160Zm0 220h160v-160H400v160ZM180-400h160v-160H180v160Zm440 0h160v-160H620v160ZM180-180h160v-160H180v160Zm440 0h160v-160H620v160Z\"/>\n",
              "  </svg>\n",
              "    </button>\n",
              "\n",
              "  <style>\n",
              "    .colab-df-container {\n",
              "      display:flex;\n",
              "      gap: 12px;\n",
              "    }\n",
              "\n",
              "    .colab-df-convert {\n",
              "      background-color: #E8F0FE;\n",
              "      border: none;\n",
              "      border-radius: 50%;\n",
              "      cursor: pointer;\n",
              "      display: none;\n",
              "      fill: #1967D2;\n",
              "      height: 32px;\n",
              "      padding: 0 0 0 0;\n",
              "      width: 32px;\n",
              "    }\n",
              "\n",
              "    .colab-df-convert:hover {\n",
              "      background-color: #E2EBFA;\n",
              "      box-shadow: 0px 1px 2px rgba(60, 64, 67, 0.3), 0px 1px 3px 1px rgba(60, 64, 67, 0.15);\n",
              "      fill: #174EA6;\n",
              "    }\n",
              "\n",
              "    .colab-df-buttons div {\n",
              "      margin-bottom: 4px;\n",
              "    }\n",
              "\n",
              "    [theme=dark] .colab-df-convert {\n",
              "      background-color: #3B4455;\n",
              "      fill: #D2E3FC;\n",
              "    }\n",
              "\n",
              "    [theme=dark] .colab-df-convert:hover {\n",
              "      background-color: #434B5C;\n",
              "      box-shadow: 0px 1px 3px 1px rgba(0, 0, 0, 0.15);\n",
              "      filter: drop-shadow(0px 1px 2px rgba(0, 0, 0, 0.3));\n",
              "      fill: #FFFFFF;\n",
              "    }\n",
              "  </style>\n",
              "\n",
              "    <script>\n",
              "      const buttonEl =\n",
              "        document.querySelector('#df-563a4917-6592-4fe7-b9c8-3475ca3af5bf button.colab-df-convert');\n",
              "      buttonEl.style.display =\n",
              "        google.colab.kernel.accessAllowed ? 'block' : 'none';\n",
              "\n",
              "      async function convertToInteractive(key) {\n",
              "        const element = document.querySelector('#df-563a4917-6592-4fe7-b9c8-3475ca3af5bf');\n",
              "        const dataTable =\n",
              "          await google.colab.kernel.invokeFunction('convertToInteractive',\n",
              "                                                    [key], {});\n",
              "        if (!dataTable) return;\n",
              "\n",
              "        const docLinkHtml = 'Like what you see? Visit the ' +\n",
              "          '<a target=\"_blank\" href=https://colab.research.google.com/notebooks/data_table.ipynb>data table notebook</a>'\n",
              "          + ' to learn more about interactive tables.';\n",
              "        element.innerHTML = '';\n",
              "        dataTable['output_type'] = 'display_data';\n",
              "        await google.colab.output.renderOutput(dataTable, element);\n",
              "        const docLink = document.createElement('div');\n",
              "        docLink.innerHTML = docLinkHtml;\n",
              "        element.appendChild(docLink);\n",
              "      }\n",
              "    </script>\n",
              "  </div>\n",
              "\n",
              "\n",
              "<div id=\"df-b8bbe0fd-c13f-4793-9c64-5bd87653fcb2\">\n",
              "  <button class=\"colab-df-quickchart\" onclick=\"quickchart('df-b8bbe0fd-c13f-4793-9c64-5bd87653fcb2')\"\n",
              "            title=\"Suggest charts\"\n",
              "            style=\"display:none;\">\n",
              "\n",
              "<svg xmlns=\"http://www.w3.org/2000/svg\" height=\"24px\"viewBox=\"0 0 24 24\"\n",
              "     width=\"24px\">\n",
              "    <g>\n",
              "        <path d=\"M19 3H5c-1.1 0-2 .9-2 2v14c0 1.1.9 2 2 2h14c1.1 0 2-.9 2-2V5c0-1.1-.9-2-2-2zM9 17H7v-7h2v7zm4 0h-2V7h2v10zm4 0h-2v-4h2v4z\"/>\n",
              "    </g>\n",
              "</svg>\n",
              "  </button>\n",
              "\n",
              "<style>\n",
              "  .colab-df-quickchart {\n",
              "      --bg-color: #E8F0FE;\n",
              "      --fill-color: #1967D2;\n",
              "      --hover-bg-color: #E2EBFA;\n",
              "      --hover-fill-color: #174EA6;\n",
              "      --disabled-fill-color: #AAA;\n",
              "      --disabled-bg-color: #DDD;\n",
              "  }\n",
              "\n",
              "  [theme=dark] .colab-df-quickchart {\n",
              "      --bg-color: #3B4455;\n",
              "      --fill-color: #D2E3FC;\n",
              "      --hover-bg-color: #434B5C;\n",
              "      --hover-fill-color: #FFFFFF;\n",
              "      --disabled-bg-color: #3B4455;\n",
              "      --disabled-fill-color: #666;\n",
              "  }\n",
              "\n",
              "  .colab-df-quickchart {\n",
              "    background-color: var(--bg-color);\n",
              "    border: none;\n",
              "    border-radius: 50%;\n",
              "    cursor: pointer;\n",
              "    display: none;\n",
              "    fill: var(--fill-color);\n",
              "    height: 32px;\n",
              "    padding: 0;\n",
              "    width: 32px;\n",
              "  }\n",
              "\n",
              "  .colab-df-quickchart:hover {\n",
              "    background-color: var(--hover-bg-color);\n",
              "    box-shadow: 0 1px 2px rgba(60, 64, 67, 0.3), 0 1px 3px 1px rgba(60, 64, 67, 0.15);\n",
              "    fill: var(--button-hover-fill-color);\n",
              "  }\n",
              "\n",
              "  .colab-df-quickchart-complete:disabled,\n",
              "  .colab-df-quickchart-complete:disabled:hover {\n",
              "    background-color: var(--disabled-bg-color);\n",
              "    fill: var(--disabled-fill-color);\n",
              "    box-shadow: none;\n",
              "  }\n",
              "\n",
              "  .colab-df-spinner {\n",
              "    border: 2px solid var(--fill-color);\n",
              "    border-color: transparent;\n",
              "    border-bottom-color: var(--fill-color);\n",
              "    animation:\n",
              "      spin 1s steps(1) infinite;\n",
              "  }\n",
              "\n",
              "  @keyframes spin {\n",
              "    0% {\n",
              "      border-color: transparent;\n",
              "      border-bottom-color: var(--fill-color);\n",
              "      border-left-color: var(--fill-color);\n",
              "    }\n",
              "    20% {\n",
              "      border-color: transparent;\n",
              "      border-left-color: var(--fill-color);\n",
              "      border-top-color: var(--fill-color);\n",
              "    }\n",
              "    30% {\n",
              "      border-color: transparent;\n",
              "      border-left-color: var(--fill-color);\n",
              "      border-top-color: var(--fill-color);\n",
              "      border-right-color: var(--fill-color);\n",
              "    }\n",
              "    40% {\n",
              "      border-color: transparent;\n",
              "      border-right-color: var(--fill-color);\n",
              "      border-top-color: var(--fill-color);\n",
              "    }\n",
              "    60% {\n",
              "      border-color: transparent;\n",
              "      border-right-color: var(--fill-color);\n",
              "    }\n",
              "    80% {\n",
              "      border-color: transparent;\n",
              "      border-right-color: var(--fill-color);\n",
              "      border-bottom-color: var(--fill-color);\n",
              "    }\n",
              "    90% {\n",
              "      border-color: transparent;\n",
              "      border-bottom-color: var(--fill-color);\n",
              "    }\n",
              "  }\n",
              "</style>\n",
              "\n",
              "  <script>\n",
              "    async function quickchart(key) {\n",
              "      const quickchartButtonEl =\n",
              "        document.querySelector('#' + key + ' button');\n",
              "      quickchartButtonEl.disabled = true;  // To prevent multiple clicks.\n",
              "      quickchartButtonEl.classList.add('colab-df-spinner');\n",
              "      try {\n",
              "        const charts = await google.colab.kernel.invokeFunction(\n",
              "            'suggestCharts', [key], {});\n",
              "      } catch (error) {\n",
              "        console.error('Error during call to suggestCharts:', error);\n",
              "      }\n",
              "      quickchartButtonEl.classList.remove('colab-df-spinner');\n",
              "      quickchartButtonEl.classList.add('colab-df-quickchart-complete');\n",
              "    }\n",
              "    (() => {\n",
              "      let quickchartButtonEl =\n",
              "        document.querySelector('#df-b8bbe0fd-c13f-4793-9c64-5bd87653fcb2 button');\n",
              "      quickchartButtonEl.style.display =\n",
              "        google.colab.kernel.accessAllowed ? 'block' : 'none';\n",
              "    })();\n",
              "  </script>\n",
              "</div>\n",
              "\n",
              "    </div>\n",
              "  </div>\n"
            ]
          },
          "metadata": {},
          "execution_count": 107
        }
      ]
    },
    {
      "cell_type": "code",
      "source": [
        "df = df.drop_duplicates() # Duplicate rows are removed"
      ],
      "metadata": {
        "id": "BpzeMCacRWaE"
      },
      "execution_count": 108,
      "outputs": []
    },
    {
      "cell_type": "code",
      "source": [
        "plt.title(\"Box plot of Iris classification dataset\")\n",
        "sns.boxplot(df)"
      ],
      "metadata": {
        "colab": {
          "base_uri": "https://localhost:8080/",
          "height": 469
        },
        "id": "vSTQPpNcTkWn",
        "outputId": "884d26bc-1e21-4de1-9fed-4da93a13ef6c"
      },
      "execution_count": 109,
      "outputs": [
        {
          "output_type": "execute_result",
          "data": {
            "text/plain": [
              "<Axes: title={'center': 'Box plot of Iris classification dataset'}>"
            ]
          },
          "metadata": {},
          "execution_count": 109
        },
        {
          "output_type": "display_data",
          "data": {
            "text/plain": [
              "<Figure size 640x480 with 1 Axes>"
            ],
            "image/png": "[encoded data removed]"
          },
          "metadata": {}
        }
      ]
    },
    {
      "cell_type": "code",
      "source": [
        "df.shape"
      ],
      "metadata": {
        "colab": {
          "base_uri": "https://localhost:8080/"
        },
        "id": "oRzr0QvbTouv",
        "outputId": "ad3d6a10-10e5-4bff-f547-5576a0e82bf9"
      },
      "execution_count": 110,
      "outputs": [
        {
          "output_type": "execute_result",
          "data": {
            "text/plain": [
              "(147, 5)"
            ]
          },
          "metadata": {},
          "execution_count": 110
        }
      ]
    },
    {
      "cell_type": "code",
      "source": [
        "from sklearn.preprocessing import LabelEncoder\n",
        "encode = LabelEncoder()\n",
        "target = encode.fit_transform(df['species']) # Converted Species column into numerical and rename as target"
      ],
      "metadata": {
        "id": "w6D2-C9iWzkm"
      },
      "execution_count": 111,
      "outputs": []
    },
    {
      "cell_type": "code",
      "source": [
        "df.drop('species',axis=1,inplace=True)"
      ],
      "metadata": {
        "id": "3KGSJYYjVLDh"
      },
      "execution_count": 112,
      "outputs": []
    },
    {
      "cell_type": "code",
      "source": [
        "df.head()"
      ],
      "metadata": {
        "colab": {
          "base_uri": "https://localhost:8080/",
          "height": 206
        },
        "id": "6eU9GGxsODSh",
        "outputId": "41cedb84-6a74-47bc-8d21-13ddfc537c60"
      },
      "execution_count": 113,
      "outputs": [
        {
          "output_type": "execute_result",
          "data": {
            "text/plain": [
              "   sepal_length  sepal_width  petal_length  petal_width\n",
              "0           5.1          3.5           1.4          0.2\n",
              "1           4.9          3.0           1.4          0.2\n",
              "2           4.7          3.2           1.3          0.2\n",
              "3           4.6          3.1           1.5          0.2\n",
              "4           5.0          3.6           1.4          0.2"
            ],
            "text/html": [
              "\n",
              "  <div id=\"df-639f8bfd-075f-4c16-8e3c-b2f43afa25ed\" class=\"colab-df-container\">\n",
              "    <div>\n",
              "<style scoped>\n",
              "    .dataframe tbody tr th:only-of-type {\n",
              "        vertical-align: middle;\n",
              "    }\n",
              "\n",
              "    .dataframe tbody tr th {\n",
              "        vertical-align: top;\n",
              "    }\n",
              "\n",
              "    .dataframe thead th {\n",
              "        text-align: right;\n",
              "    }\n",
              "</style>\n",
              "<table border=\"1\" class=\"dataframe\">\n",
              "  <thead>\n",
              "    <tr style=\"text-align: right;\">\n",
              "      <th></th>\n",
              "      <th>sepal_length</th>\n",
              "      <th>sepal_width</th>\n",
              "      <th>petal_length</th>\n",
              "      <th>petal_width</th>\n",
              "    </tr>\n",
              "  </thead>\n",
              "  <tbody>\n",
              "    <tr>\n",
              "      <th>0</th>\n",
              "      <td>5.1</td>\n",
              "      <td>3.5</td>\n",
              "      <td>1.4</td>\n",
              "      <td>0.2</td>\n",
              "    </tr>\n",
              "    <tr>\n",
              "      <th>1</th>\n",
              "      <td>4.9</td>\n",
              "      <td>3.0</td>\n",
              "      <td>1.4</td>\n",
              "      <td>0.2</td>\n",
              "    </tr>\n",
              "    <tr>\n",
              "      <th>2</th>\n",
              "      <td>4.7</td>\n",
              "      <td>3.2</td>\n",
              "      <td>1.3</td>\n",
              "      <td>0.2</td>\n",
              "    </tr>\n",
              "    <tr>\n",
              "      <th>3</th>\n",
              "      <td>4.6</td>\n",
              "      <td>3.1</td>\n",
              "      <td>1.5</td>\n",
              "      <td>0.2</td>\n",
              "    </tr>\n",
              "    <tr>\n",
              "      <th>4</th>\n",
              "      <td>5.0</td>\n",
              "      <td>3.6</td>\n",
              "      <td>1.4</td>\n",
              "      <td>0.2</td>\n",
              "    </tr>\n",
              "  </tbody>\n",
              "</table>\n",
              "</div>\n",
              "    <div class=\"colab-df-buttons\">\n",
              "\n",
              "  <div class=\"colab-df-container\">\n",
              "    <button class=\"colab-df-convert\" onclick=\"convertToInteractive('df-639f8bfd-075f-4c16-8e3c-b2f43afa25ed')\"\n",
              "            title=\"Convert this dataframe to an interactive table.\"\n",
              "            style=\"display:none;\">\n",
              "\n",
              "  <svg xmlns=\"http://www.w3.org/2000/svg\" height=\"24px\" viewBox=\"0 -960 960 960\">\n",
              "    <path d=\"M120-120v-720h720v720H120Zm60-500h600v-160H180v160Zm220 220h160v-160H400v160Zm0 220h160v-160H400v160ZM180-400h160v-160H180v160Zm440 0h160v-160H620v160ZM180-180h160v-160H180v160Zm440 0h160v-160H620v160Z\"/>\n",
              "  </svg>\n",
              "    </button>\n",
              "\n",
              "  <style>\n",
              "    .colab-df-container {\n",
              "      display:flex;\n",
              "      gap: 12px;\n",
              "    }\n",
              "\n",
              "    .colab-df-convert {\n",
              "      background-color: #E8F0FE;\n",
              "      border: none;\n",
              "      border-radius: 50%;\n",
              "      cursor: pointer;\n",
              "      display: none;\n",
              "      fill: #1967D2;\n",
              "      height: 32px;\n",
              "      padding: 0 0 0 0;\n",
              "      width: 32px;\n",
              "    }\n",
              "\n",
              "    .colab-df-convert:hover {\n",
              "      background-color: #E2EBFA;\n",
              "      box-shadow: 0px 1px 2px rgba(60, 64, 67, 0.3), 0px 1px 3px 1px rgba(60, 64, 67, 0.15);\n",
              "      fill: #174EA6;\n",
              "    }\n",
              "\n",
              "    .colab-df-buttons div {\n",
              "      margin-bottom: 4px;\n",
              "    }\n",
              "\n",
              "    [theme=dark] .colab-df-convert {\n",
              "      background-color: #3B4455;\n",
              "      fill: #D2E3FC;\n",
              "    }\n",
              "\n",
              "    [theme=dark] .colab-df-convert:hover {\n",
              "      background-color: #434B5C;\n",
              "      box-shadow: 0px 1px 3px 1px rgba(0, 0, 0, 0.15);\n",
              "      filter: drop-shadow(0px 1px 2px rgba(0, 0, 0, 0.3));\n",
              "      fill: #FFFFFF;\n",
              "    }\n",
              "  </style>\n",
              "\n",
              "    <script>\n",
              "      const buttonEl =\n",
              "        document.querySelector('#df-639f8bfd-075f-4c16-8e3c-b2f43afa25ed button.colab-df-convert');\n",
              "      buttonEl.style.display =\n",
              "        google.colab.kernel.accessAllowed ? 'block' : 'none';\n",
              "\n",
              "      async function convertToInteractive(key) {\n",
              "        const element = document.querySelector('#df-639f8bfd-075f-4c16-8e3c-b2f43afa25ed');\n",
              "        const dataTable =\n",
              "          await google.colab.kernel.invokeFunction('convertToInteractive',\n",
              "                                                    [key], {});\n",
              "        if (!dataTable) return;\n",
              "\n",
              "        const docLinkHtml = 'Like what you see? Visit the ' +\n",
              "          '<a target=\"_blank\" href=https://colab.research.google.com/notebooks/data_table.ipynb>data table notebook</a>'\n",
              "          + ' to learn more about interactive tables.';\n",
              "        element.innerHTML = '';\n",
              "        dataTable['output_type'] = 'display_data';\n",
              "        await google.colab.output.renderOutput(dataTable, element);\n",
              "        const docLink = document.createElement('div');\n",
              "        docLink.innerHTML = docLinkHtml;\n",
              "        element.appendChild(docLink);\n",
              "      }\n",
              "    </script>\n",
              "  </div>\n",
              "\n",
              "\n",
              "<div id=\"df-61680993-f27c-44e7-8cfe-9dbb2fa4b346\">\n",
              "  <button class=\"colab-df-quickchart\" onclick=\"quickchart('df-61680993-f27c-44e7-8cfe-9dbb2fa4b346')\"\n",
              "            title=\"Suggest charts\"\n",
              "            style=\"display:none;\">\n",
              "\n",
              "<svg xmlns=\"http://www.w3.org/2000/svg\" height=\"24px\"viewBox=\"0 0 24 24\"\n",
              "     width=\"24px\">\n",
              "    <g>\n",
              "        <path d=\"M19 3H5c-1.1 0-2 .9-2 2v14c0 1.1.9 2 2 2h14c1.1 0 2-.9 2-2V5c0-1.1-.9-2-2-2zM9 17H7v-7h2v7zm4 0h-2V7h2v10zm4 0h-2v-4h2v4z\"/>\n",
              "    </g>\n",
              "</svg>\n",
              "  </button>\n",
              "\n",
              "<style>\n",
              "  .colab-df-quickchart {\n",
              "      --bg-color: #E8F0FE;\n",
              "      --fill-color: #1967D2;\n",
              "      --hover-bg-color: #E2EBFA;\n",
              "      --hover-fill-color: #174EA6;\n",
              "      --disabled-fill-color: #AAA;\n",
              "      --disabled-bg-color: #DDD;\n",
              "  }\n",
              "\n",
              "  [theme=dark] .colab-df-quickchart {\n",
              "      --bg-color: #3B4455;\n",
              "      --fill-color: #D2E3FC;\n",
              "      --hover-bg-color: #434B5C;\n",
              "      --hover-fill-color: #FFFFFF;\n",
              "      --disabled-bg-color: #3B4455;\n",
              "      --disabled-fill-color: #666;\n",
              "  }\n",
              "\n",
              "  .colab-df-quickchart {\n",
              "    background-color: var(--bg-color);\n",
              "    border: none;\n",
              "    border-radius: 50%;\n",
              "    cursor: pointer;\n",
              "    display: none;\n",
              "    fill: var(--fill-color);\n",
              "    height: 32px;\n",
              "    padding: 0;\n",
              "    width: 32px;\n",
              "  }\n",
              "\n",
              "  .colab-df-quickchart:hover {\n",
              "    background-color: var(--hover-bg-color);\n",
              "    box-shadow: 0 1px 2px rgba(60, 64, 67, 0.3), 0 1px 3px 1px rgba(60, 64, 67, 0.15);\n",
              "    fill: var(--button-hover-fill-color);\n",
              "  }\n",
              "\n",
              "  .colab-df-quickchart-complete:disabled,\n",
              "  .colab-df-quickchart-complete:disabled:hover {\n",
              "    background-color: var(--disabled-bg-color);\n",
              "    fill: var(--disabled-fill-color);\n",
              "    box-shadow: none;\n",
              "  }\n",
              "\n",
              "  .colab-df-spinner {\n",
              "    border: 2px solid var(--fill-color);\n",
              "    border-color: transparent;\n",
              "    border-bottom-color: var(--fill-color);\n",
              "    animation:\n",
              "      spin 1s steps(1) infinite;\n",
              "  }\n",
              "\n",
              "  @keyframes spin {\n",
              "    0% {\n",
              "      border-color: transparent;\n",
              "      border-bottom-color: var(--fill-color);\n",
              "      border-left-color: var(--fill-color);\n",
              "    }\n",
              "    20% {\n",
              "      border-color: transparent;\n",
              "      border-left-color: var(--fill-color);\n",
              "      border-top-color: var(--fill-color);\n",
              "    }\n",
              "    30% {\n",
              "      border-color: transparent;\n",
              "      border-left-color: var(--fill-color);\n",
              "      border-top-color: var(--fill-color);\n",
              "      border-right-color: var(--fill-color);\n",
              "    }\n",
              "    40% {\n",
              "      border-color: transparent;\n",
              "      border-right-color: var(--fill-color);\n",
              "      border-top-color: var(--fill-color);\n",
              "    }\n",
              "    60% {\n",
              "      border-color: transparent;\n",
              "      border-right-color: var(--fill-color);\n",
              "    }\n",
              "    80% {\n",
              "      border-color: transparent;\n",
              "      border-right-color: var(--fill-color);\n",
              "      border-bottom-color: var(--fill-color);\n",
              "    }\n",
              "    90% {\n",
              "      border-color: transparent;\n",
              "      border-bottom-color: var(--fill-color);\n",
              "    }\n",
              "  }\n",
              "</style>\n",
              "\n",
              "  <script>\n",
              "    async function quickchart(key) {\n",
              "      const quickchartButtonEl =\n",
              "        document.querySelector('#' + key + ' button');\n",
              "      quickchartButtonEl.disabled = true;  // To prevent multiple clicks.\n",
              "      quickchartButtonEl.classList.add('colab-df-spinner');\n",
              "      try {\n",
              "        const charts = await google.colab.kernel.invokeFunction(\n",
              "            'suggestCharts', [key], {});\n",
              "      } catch (error) {\n",
              "        console.error('Error during call to suggestCharts:', error);\n",
              "      }\n",
              "      quickchartButtonEl.classList.remove('colab-df-spinner');\n",
              "      quickchartButtonEl.classList.add('colab-df-quickchart-complete');\n",
              "    }\n",
              "    (() => {\n",
              "      let quickchartButtonEl =\n",
              "        document.querySelector('#df-61680993-f27c-44e7-8cfe-9dbb2fa4b346 button');\n",
              "      quickchartButtonEl.style.display =\n",
              "        google.colab.kernel.accessAllowed ? 'block' : 'none';\n",
              "    })();\n",
              "  </script>\n",
              "</div>\n",
              "\n",
              "    </div>\n",
              "  </div>\n"
            ]
          },
          "metadata": {},
          "execution_count": 113
        }
      ]
    },
    {
      "cell_type": "code",
      "source": [
        "df.describe()"
      ],
      "metadata": {
        "colab": {
          "base_uri": "https://localhost:8080/",
          "height": 300
        },
        "id": "pKMdejHsWUBU",
        "outputId": "91efc3fa-b0d9-42d2-a2df-78998167be3b"
      },
      "execution_count": 114,
      "outputs": [
        {
          "output_type": "execute_result",
          "data": {
            "text/plain": [
              "       sepal_length  sepal_width  petal_length  petal_width\n",
              "count    147.000000   147.000000    147.000000   147.000000\n",
              "mean       5.856463     3.055782      3.780272     1.208844\n",
              "std        0.829100     0.437009      1.759111     0.757874\n",
              "min        4.300000     2.000000      1.000000     0.100000\n",
              "25%        5.100000     2.800000      1.600000     0.300000\n",
              "50%        5.800000     3.000000      4.400000     1.300000\n",
              "75%        6.400000     3.300000      5.100000     1.800000\n",
              "max        7.900000     4.400000      6.900000     2.500000"
            ],
            "text/html": [
              "\n",
              "  <div id=\"df-45db0ee2-10b1-496b-a995-ad63f3f92af7\" class=\"colab-df-container\">\n",
              "    <div>\n",
              "<style scoped>\n",
              "    .dataframe tbody tr th:only-of-type {\n",
              "        vertical-align: middle;\n",
              "    }\n",
              "\n",
              "    .dataframe tbody tr th {\n",
              "        vertical-align: top;\n",
              "    }\n",
              "\n",
              "    .dataframe thead th {\n",
              "        text-align: right;\n",
              "    }\n",
              "</style>\n",
              "<table border=\"1\" class=\"dataframe\">\n",
              "  <thead>\n",
              "    <tr style=\"text-align: right;\">\n",
              "      <th></th>\n",
              "      <th>sepal_length</th>\n",
              "      <th>sepal_width</th>\n",
              "      <th>petal_length</th>\n",
              "      <th>petal_width</th>\n",
              "    </tr>\n",
              "  </thead>\n",
              "  <tbody>\n",
              "    <tr>\n",
              "      <th>count</th>\n",
              "      <td>147.000000</td>\n",
              "      <td>147.000000</td>\n",
              "      <td>147.000000</td>\n",
              "      <td>147.000000</td>\n",
              "    </tr>\n",
              "    <tr>\n",
              "      <th>mean</th>\n",
              "      <td>5.856463</td>\n",
              "      <td>3.055782</td>\n",
              "      <td>3.780272</td>\n",
              "      <td>1.208844</td>\n",
              "    </tr>\n",
              "    <tr>\n",
              "      <th>std</th>\n",
              "      <td>0.829100</td>\n",
              "      <td>0.437009</td>\n",
              "      <td>1.759111</td>\n",
              "      <td>0.757874</td>\n",
              "    </tr>\n",
              "    <tr>\n",
              "      <th>min</th>\n",
              "      <td>4.300000</td>\n",
              "      <td>2.000000</td>\n",
              "      <td>1.000000</td>\n",
              "      <td>0.100000</td>\n",
              "    </tr>\n",
              "    <tr>\n",
              "      <th>25%</th>\n",
              "      <td>5.100000</td>\n",
              "      <td>2.800000</td>\n",
              "      <td>1.600000</td>\n",
              "      <td>0.300000</td>\n",
              "    </tr>\n",
              "    <tr>\n",
              "      <th>50%</th>\n",
              "      <td>5.800000</td>\n",
              "      <td>3.000000</td>\n",
              "      <td>4.400000</td>\n",
              "      <td>1.300000</td>\n",
              "    </tr>\n",
              "    <tr>\n",
              "      <th>75%</th>\n",
              "      <td>6.400000</td>\n",
              "      <td>3.300000</td>\n",
              "      <td>5.100000</td>\n",
              "      <td>1.800000</td>\n",
              "    </tr>\n",
              "    <tr>\n",
              "      <th>max</th>\n",
              "      <td>7.900000</td>\n",
              "      <td>4.400000</td>\n",
              "      <td>6.900000</td>\n",
              "      <td>2.500000</td>\n",
              "    </tr>\n",
              "  </tbody>\n",
              "</table>\n",
              "</div>\n",
              "    <div class=\"colab-df-buttons\">\n",
              "\n",
              "  <div class=\"colab-df-container\">\n",
              "    <button class=\"colab-df-convert\" onclick=\"convertToInteractive('df-45db0ee2-10b1-496b-a995-ad63f3f92af7')\"\n",
              "            title=\"Convert this dataframe to an interactive table.\"\n",
              "            style=\"display:none;\">\n",
              "\n",
              "  <svg xmlns=\"http://www.w3.org/2000/svg\" height=\"24px\" viewBox=\"0 -960 960 960\">\n",
              "    <path d=\"M120-120v-720h720v720H120Zm60-500h600v-160H180v160Zm220 220h160v-160H400v160Zm0 220h160v-160H400v160ZM180-400h160v-160H180v160Zm440 0h160v-160H620v160ZM180-180h160v-160H180v160Zm440 0h160v-160H620v160Z\"/>\n",
              "  </svg>\n",
              "    </button>\n",
              "\n",
              "  <style>\n",
              "    .colab-df-container {\n",
              "      display:flex;\n",
              "      gap: 12px;\n",
              "    }\n",
              "\n",
              "    .colab-df-convert {\n",
              "      background-color: #E8F0FE;\n",
              "      border: none;\n",
              "      border-radius: 50%;\n",
              "      cursor: pointer;\n",
              "      display: none;\n",
              "      fill: #1967D2;\n",
              "      height: 32px;\n",
              "      padding: 0 0 0 0;\n",
              "      width: 32px;\n",
              "    }\n",
              "\n",
              "    .colab-df-convert:hover {\n",
              "      background-color: #E2EBFA;\n",
              "      box-shadow: 0px 1px 2px rgba(60, 64, 67, 0.3), 0px 1px 3px 1px rgba(60, 64, 67, 0.15);\n",
              "      fill: #174EA6;\n",
              "    }\n",
              "\n",
              "    .colab-df-buttons div {\n",
              "      margin-bottom: 4px;\n",
              "    }\n",
              "\n",
              "    [theme=dark] .colab-df-convert {\n",
              "      background-color: #3B4455;\n",
              "      fill: #D2E3FC;\n",
              "    }\n",
              "\n",
              "    [theme=dark] .colab-df-convert:hover {\n",
              "      background-color: #434B5C;\n",
              "      box-shadow: 0px 1px 3px 1px rgba(0, 0, 0, 0.15);\n",
              "      filter: drop-shadow(0px 1px 2px rgba(0, 0, 0, 0.3));\n",
              "      fill: #FFFFFF;\n",
              "    }\n",
              "  </style>\n",
              "\n",
              "    <script>\n",
              "      const buttonEl =\n",
              "        document.querySelector('#df-45db0ee2-10b1-496b-a995-ad63f3f92af7 button.colab-df-convert');\n",
              "      buttonEl.style.display =\n",
              "        google.colab.kernel.accessAllowed ? 'block' : 'none';\n",
              "\n",
              "      async function convertToInteractive(key) {\n",
              "        const element = document.querySelector('#df-45db0ee2-10b1-496b-a995-ad63f3f92af7');\n",
              "        const dataTable =\n",
              "          await google.colab.kernel.invokeFunction('convertToInteractive',\n",
              "                                                    [key], {});\n",
              "        if (!dataTable) return;\n",
              "\n",
              "        const docLinkHtml = 'Like what you see? Visit the ' +\n",
              "          '<a target=\"_blank\" href=https://colab.research.google.com/notebooks/data_table.ipynb>data table notebook</a>'\n",
              "          + ' to learn more about interactive tables.';\n",
              "        element.innerHTML = '';\n",
              "        dataTable['output_type'] = 'display_data';\n",
              "        await google.colab.output.renderOutput(dataTable, element);\n",
              "        const docLink = document.createElement('div');\n",
              "        docLink.innerHTML = docLinkHtml;\n",
              "        element.appendChild(docLink);\n",
              "      }\n",
              "    </script>\n",
              "  </div>\n",
              "\n",
              "\n",
              "<div id=\"df-394a7714-aa42-4485-9af0-0d7e63671438\">\n",
              "  <button class=\"colab-df-quickchart\" onclick=\"quickchart('df-394a7714-aa42-4485-9af0-0d7e63671438')\"\n",
              "            title=\"Suggest charts\"\n",
              "            style=\"display:none;\">\n",
              "\n",
              "<svg xmlns=\"http://www.w3.org/2000/svg\" height=\"24px\"viewBox=\"0 0 24 24\"\n",
              "     width=\"24px\">\n",
              "    <g>\n",
              "        <path d=\"M19 3H5c-1.1 0-2 .9-2 2v14c0 1.1.9 2 2 2h14c1.1 0 2-.9 2-2V5c0-1.1-.9-2-2-2zM9 17H7v-7h2v7zm4 0h-2V7h2v10zm4 0h-2v-4h2v4z\"/>\n",
              "    </g>\n",
              "</svg>\n",
              "  </button>\n",
              "\n",
              "<style>\n",
              "  .colab-df-quickchart {\n",
              "      --bg-color: #E8F0FE;\n",
              "      --fill-color: #1967D2;\n",
              "      --hover-bg-color: #E2EBFA;\n",
              "      --hover-fill-color: #174EA6;\n",
              "      --disabled-fill-color: #AAA;\n",
              "      --disabled-bg-color: #DDD;\n",
              "  }\n",
              "\n",
              "  [theme=dark] .colab-df-quickchart {\n",
              "      --bg-color: #3B4455;\n",
              "      --fill-color: #D2E3FC;\n",
              "      --hover-bg-color: #434B5C;\n",
              "      --hover-fill-color: #FFFFFF;\n",
              "      --disabled-bg-color: #3B4455;\n",
              "      --disabled-fill-color: #666;\n",
              "  }\n",
              "\n",
              "  .colab-df-quickchart {\n",
              "    background-color: var(--bg-color);\n",
              "    border: none;\n",
              "    border-radius: 50%;\n",
              "    cursor: pointer;\n",
              "    display: none;\n",
              "    fill: var(--fill-color);\n",
              "    height: 32px;\n",
              "    padding: 0;\n",
              "    width: 32px;\n",
              "  }\n",
              "\n",
              "  .colab-df-quickchart:hover {\n",
              "    background-color: var(--hover-bg-color);\n",
              "    box-shadow: 0 1px 2px rgba(60, 64, 67, 0.3), 0 1px 3px 1px rgba(60, 64, 67, 0.15);\n",
              "    fill: var(--button-hover-fill-color);\n",
              "  }\n",
              "\n",
              "  .colab-df-quickchart-complete:disabled,\n",
              "  .colab-df-quickchart-complete:disabled:hover {\n",
              "    background-color: var(--disabled-bg-color);\n",
              "    fill: var(--disabled-fill-color);\n",
              "    box-shadow: none;\n",
              "  }\n",
              "\n",
              "  .colab-df-spinner {\n",
              "    border: 2px solid var(--fill-color);\n",
              "    border-color: transparent;\n",
              "    border-bottom-color: var(--fill-color);\n",
              "    animation:\n",
              "      spin 1s steps(1) infinite;\n",
              "  }\n",
              "\n",
              "  @keyframes spin {\n",
              "    0% {\n",
              "      border-color: transparent;\n",
              "      border-bottom-color: var(--fill-color);\n",
              "      border-left-color: var(--fill-color);\n",
              "    }\n",
              "    20% {\n",
              "      border-color: transparent;\n",
              "      border-left-color: var(--fill-color);\n",
              "      border-top-color: var(--fill-color);\n",
              "    }\n",
              "    30% {\n",
              "      border-color: transparent;\n",
              "      border-left-color: var(--fill-color);\n",
              "      border-top-color: var(--fill-color);\n",
              "      border-right-color: var(--fill-color);\n",
              "    }\n",
              "    40% {\n",
              "      border-color: transparent;\n",
              "      border-right-color: var(--fill-color);\n",
              "      border-top-color: var(--fill-color);\n",
              "    }\n",
              "    60% {\n",
              "      border-color: transparent;\n",
              "      border-right-color: var(--fill-color);\n",
              "    }\n",
              "    80% {\n",
              "      border-color: transparent;\n",
              "      border-right-color: var(--fill-color);\n",
              "      border-bottom-color: var(--fill-color);\n",
              "    }\n",
              "    90% {\n",
              "      border-color: transparent;\n",
              "      border-bottom-color: var(--fill-color);\n",
              "    }\n",
              "  }\n",
              "</style>\n",
              "\n",
              "  <script>\n",
              "    async function quickchart(key) {\n",
              "      const quickchartButtonEl =\n",
              "        document.querySelector('#' + key + ' button');\n",
              "      quickchartButtonEl.disabled = true;  // To prevent multiple clicks.\n",
              "      quickchartButtonEl.classList.add('colab-df-spinner');\n",
              "      try {\n",
              "        const charts = await google.colab.kernel.invokeFunction(\n",
              "            'suggestCharts', [key], {});\n",
              "      } catch (error) {\n",
              "        console.error('Error during call to suggestCharts:', error);\n",
              "      }\n",
              "      quickchartButtonEl.classList.remove('colab-df-spinner');\n",
              "      quickchartButtonEl.classList.add('colab-df-quickchart-complete');\n",
              "    }\n",
              "    (() => {\n",
              "      let quickchartButtonEl =\n",
              "        document.querySelector('#df-394a7714-aa42-4485-9af0-0d7e63671438 button');\n",
              "      quickchartButtonEl.style.display =\n",
              "        google.colab.kernel.accessAllowed ? 'block' : 'none';\n",
              "    })();\n",
              "  </script>\n",
              "</div>\n",
              "\n",
              "    </div>\n",
              "  </div>\n"
            ]
          },
          "metadata": {},
          "execution_count": 114
        }
      ]
    },
    {
      "cell_type": "code",
      "source": [
        "plt.figure(figsize=(10,9))\n",
        "sns.heatmap(df.corr(),annot=True)"
      ],
      "metadata": {
        "colab": {
          "base_uri": "https://localhost:8080/",
          "height": 776
        },
        "id": "UNnP3XHHWZ0Z",
        "outputId": "a9222366-5cdf-45a1-fe01-88519f1f98b4"
      },
      "execution_count": 115,
      "outputs": [
        {
          "output_type": "execute_result",
          "data": {
            "text/plain": [
              "<Axes: >"
            ]
          },
          "metadata": {},
          "execution_count": 115
        },
        {
          "output_type": "display_data",
          "data": {
            "text/plain": [
              "<Figure size 1000x900 with 2 Axes>"
            ],
            "image/png": "[encoded data removed]"
          },
          "metadata": {}
        }
      ]
    },
    {
      "cell_type": "code",
      "source": [
        "sns.countplot(data = df, x = target) # No.of Species in a dataset"
      ],
      "metadata": {
        "colab": {
          "base_uri": "https://localhost:8080/",
          "height": 447
        },
        "id": "L2dX9GSsXRii",
        "outputId": "6e43c825-09bb-4958-f060-70e60b2b6d3f"
      },
      "execution_count": 116,
      "outputs": [
        {
          "output_type": "execute_result",
          "data": {
            "text/plain": [
              "<Axes: ylabel='count'>"
            ]
          },
          "metadata": {},
          "execution_count": 116
        },
        {
          "output_type": "display_data",
          "data": {
            "text/plain": [
              "<Figure size 640x480 with 1 Axes>"
            ],
            "image/png": "[encoded data removed]"
          },
          "metadata": {}
        }
      ]
    },
    {
      "cell_type": "code",
      "source": [
        "sns.pairplot(df)"
      ],
      "metadata": {
        "colab": {
          "base_uri": "https://localhost:8080/",
          "height": 1000
        },
        "id": "fJqSFDofXv6R",
        "outputId": "47e96bc6-43fb-45e1-e1f5-11fb47d97650"
      },
      "execution_count": 117,
      "outputs": [
        {
          "output_type": "execute_result",
          "data": {
            "text/plain": [
              "<seaborn.axisgrid.PairGrid at 0x7af34f99fc10>"
            ]
          },
          "metadata": {},
          "execution_count": 117
        },
        {
          "output_type": "display_data",
          "data": {
            "text/plain": [
              "<Figure size 1000x1000 with 20 Axes>"
            ],
            "image/png": "[encoded data removed]"
          },
          "metadata": {}
        }
      ]
    },
    {
      "cell_type": "code",
      "source": [
        "x = df\n",
        "y = target\n",
        "print(x)\n",
        "print(y)"
      ],
      "metadata": {
        "id": "ouvECB15YnjH",
        "colab": {
          "base_uri": "https://localhost:8080/"
        },
        "outputId": "edb982f1-e6c6-48f2-ae7f-91e72d41bae0"
      },
      "execution_count": 118,
      "outputs": [
        {
          "output_type": "stream",
          "name": "stdout",
          "text": [
            "     sepal_length  sepal_width  petal_length  petal_width\n",
            "0             5.1          3.5           1.4          0.2\n",
            "1             4.9          3.0           1.4          0.2\n",
            "2             4.7          3.2           1.3          0.2\n",
            "3             4.6          3.1           1.5          0.2\n",
            "4             5.0          3.6           1.4          0.2\n",
            "..            ...          ...           ...          ...\n",
            "145           6.7          3.0           5.2          2.3\n",
            "146           6.3          2.5           5.0          1.9\n",
            "147           6.5          3.0           5.2          2.0\n",
            "148           6.2          3.4           5.4          2.3\n",
            "149           5.9          3.0           5.1          1.8\n",
            "\n",
            "[147 rows x 4 columns]\n",
            "[0 0 0 0 0 0 0 0 0 0 0 0 0 0 0 0 0 0 0 0 0 0 0 0 0 0 0 0 0 0 0 0 0 0 0 0 0\n",
            " 0 0 0 0 0 0 0 0 0 0 0 1 1 1 1 1 1 1 1 1 1 1 1 1 1 1 1 1 1 1 1 1 1 1 1 1 1\n",
            " 1 1 1 1 1 1 1 1 1 1 1 1 1 1 1 1 1 1 1 1 1 1 1 1 2 2 2 2 2 2 2 2 2 2 2 2 2\n",
            " 2 2 2 2 2 2 2 2 2 2 2 2 2 2 2 2 2 2 2 2 2 2 2 2 2 2 2 2 2 2 2 2 2 2 2 2]\n"
          ]
        }
      ]
    },
    {
      "cell_type": "code",
      "source": [
        "from sklearn.model_selection import train_test_split\n",
        "x_train,x_test,y_train,y_test = train_test_split(x,y,test_size=0.33,random_state=42)\n",
        "print(x_train.shape)\n",
        "print(x_test.shape)\n",
        "print(y_train.shape)\n",
        "print(y_test.shape)"
      ],
      "metadata": {
        "id": "lJQPbL8VZH_x",
        "colab": {
          "base_uri": "https://localhost:8080/"
        },
        "outputId": "d9920e95-d060-440f-f803-debc95d9675e"
      },
      "execution_count": 119,
      "outputs": [
        {
          "output_type": "stream",
          "name": "stdout",
          "text": [
            "(98, 4)\n",
            "(49, 4)\n",
            "(98,)\n",
            "(49,)\n"
          ]
        }
      ]
    },
    {
      "cell_type": "code",
      "source": [
        "from sklearn.linear_model import LogisticRegression\n",
        "parameter = {\n",
        "    'penalty':['l1', 'l2', 'elasticnet'],\n",
        "    'solver' : ['lbfgs', 'liblinear', 'newton-cg', 'newton-cholesky', 'sag', 'saga']\n",
        "}"
      ],
      "metadata": {
        "id": "ydtDSxdaZhR3"
      },
      "execution_count": 128,
      "outputs": []
    },
    {
      "cell_type": "code",
      "source": [
        "lr = LogisticRegression()\n",
        "lr.fit(x_train,y_train)"
      ],
      "metadata": {
        "colab": {
          "base_uri": "https://localhost:8080/",
          "height": 74
        },
        "id": "S_3ipXJmcFdR",
        "outputId": "b72f0271-0138-47e4-bf8c-08fea104df9b"
      },
      "execution_count": 122,
      "outputs": [
        {
          "output_type": "execute_result",
          "data": {
            "text/plain": [
              "LogisticRegression()"
            ],
            "text/html": [
              "<style>#sk-container-id-1 {color: black;background-color: white;}#sk-container-id-1 pre{padding: 0;}#sk-container-id-1 div.sk-toggleable {background-color: white;}#sk-container-id-1 label.sk-toggleable__label {cursor: pointer;display: block;width: 100%;margin-bottom: 0;padding: 0.3em;box-sizing: border-box;text-align: center;}#sk-container-id-1 label.sk-toggleable__label-arrow:before {content: \"▸\";float: left;margin-right: 0.25em;color: #696969;}#sk-container-id-1 label.sk-toggleable__label-arrow:hover:before {color: black;}#sk-container-id-1 div.sk-estimator:hover label.sk-toggleable__label-arrow:before {color: black;}#sk-container-id-1 div.sk-toggleable__content {max-height: 0;max-width: 0;overflow: hidden;text-align: left;background-color: #f0f8ff;}#sk-container-id-1 div.sk-toggleable__content pre {margin: 0.2em;color: black;border-radius: 0.25em;background-color: #f0f8ff;}#sk-container-id-1 input.sk-toggleable__control:checked~div.sk-toggleable__content {max-height: 200px;max-width: 100%;overflow: auto;}#sk-container-id-1 input.sk-toggleable__control:checked~label.sk-toggleable__label-arrow:before {content: \"▾\";}#sk-container-id-1 div.sk-estimator input.sk-toggleable__control:checked~label.sk-toggleable__label {background-color: #d4ebff;}#sk-container-id-1 div.sk-label input.sk-toggleable__control:checked~label.sk-toggleable__label {background-color: #d4ebff;}#sk-container-id-1 input.sk-hidden--visually {border: 0;clip: rect(1px 1px 1px 1px);clip: rect(1px, 1px, 1px, 1px);height: 1px;margin: -1px;overflow: hidden;padding: 0;position: absolute;width: 1px;}#sk-container-id-1 div.sk-estimator {font-family: monospace;background-color: #f0f8ff;border: 1px dotted black;border-radius: 0.25em;box-sizing: border-box;margin-bottom: 0.5em;}#sk-container-id-1 div.sk-estimator:hover {background-color: #d4ebff;}#sk-container-id-1 div.sk-parallel-item::after {content: \"\";width: 100%;border-bottom: 1px solid gray;flex-grow: 1;}#sk-container-id-1 div.sk-label:hover label.sk-toggleable__label {background-color: #d4ebff;}#sk-container-id-1 div.sk-serial::before {content: \"\";position: absolute;border-left: 1px solid gray;box-sizing: border-box;top: 0;bottom: 0;left: 50%;z-index: 0;}#sk-container-id-1 div.sk-serial {display: flex;flex-direction: column;align-items: center;background-color: white;padding-right: 0.2em;padding-left: 0.2em;position: relative;}#sk-container-id-1 div.sk-item {position: relative;z-index: 1;}#sk-container-id-1 div.sk-parallel {display: flex;align-items: stretch;justify-content: center;background-color: white;position: relative;}#sk-container-id-1 div.sk-item::before, #sk-container-id-1 div.sk-parallel-item::before {content: \"\";position: absolute;border-left: 1px solid gray;box-sizing: border-box;top: 0;bottom: 0;left: 50%;z-index: -1;}#sk-container-id-1 div.sk-parallel-item {display: flex;flex-direction: column;z-index: 1;position: relative;background-color: white;}#sk-container-id-1 div.sk-parallel-item:first-child::after {align-self: flex-end;width: 50%;}#sk-container-id-1 div.sk-parallel-item:last-child::after {align-self: flex-start;width: 50%;}#sk-container-id-1 div.sk-parallel-item:only-child::after {width: 0;}#sk-container-id-1 div.sk-dashed-wrapped {border: 1px dashed gray;margin: 0 0.4em 0.5em 0.4em;box-sizing: border-box;padding-bottom: 0.4em;background-color: white;}#sk-container-id-1 div.sk-label label {font-family: monospace;font-weight: bold;display: inline-block;line-height: 1.2em;}#sk-container-id-1 div.sk-label-container {text-align: center;}#sk-container-id-1 div.sk-container {/* jupyter's `normalize.less` sets `[hidden] { display: none; }` but bootstrap.min.css set `[hidden] { display: none !important; }` so we also need the `!important` here to be able to override the default hidden behavior on the sphinx rendered scikit-learn.org. See: https://github.com/scikit-learn/scikit-learn/issues/21755 */display: inline-block !important;position: relative;}#sk-container-id-1 div.sk-text-repr-fallback {display: none;}</style><div id=\"sk-container-id-1\" class=\"sk-top-container\"><div class=\"sk-text-repr-fallback\"><pre>LogisticRegression()</pre><b>In a Jupyter environment, please rerun this cell to show the HTML representation or trust the notebook. <br />On GitHub, the HTML representation is unable to render, please try loading this page with nbviewer.org.</b></div><div class=\"sk-container\" hidden><div class=\"sk-item\"><div class=\"sk-estimator sk-toggleable\"><input class=\"sk-toggleable__control sk-hidden--visually\" id=\"sk-estimator-id-1\" type=\"checkbox\" checked><label for=\"sk-estimator-id-1\" class=\"sk-toggleable__label sk-toggleable__label-arrow\">LogisticRegression</label><div class=\"sk-toggleable__content\"><pre>LogisticRegression()</pre></div></div></div></div></div>"
            ]
          },
          "metadata": {},
          "execution_count": 122
        }
      ]
    },
    {
      "cell_type": "code",
      "source": [
        "from sklearn.metrics import confusion_matrix,accuracy_score,classification_report\n",
        "y_pred = lr.predict(x_test)\n",
        "print(accuracy_score(y_pred,y_test))\n",
        "print(sns.heatmap(confusion_matrix(y_pred,y_test),annot=True))\n",
        "print(classification_report(y_pred,y_test))"
      ],
      "metadata": {
        "colab": {
          "base_uri": "https://localhost:8080/",
          "height": 643
        },
        "id": "_K3weJfhcU1D",
        "outputId": "76b222fe-493a-4282-f335-64f21798223f"
      },
      "execution_count": 125,
      "outputs": [
        {
          "output_type": "stream",
          "name": "stdout",
          "text": [
            "0.9387755102040817\n",
            "Axes(0.125,0.11;0.62x0.77)\n",
            "              precision    recall  f1-score   support\n",
            "\n",
            "           0       1.00      1.00      1.00        18\n",
            "           1       0.92      0.86      0.89        14\n",
            "           2       0.89      0.94      0.91        17\n",
            "\n",
            "    accuracy                           0.94        49\n",
            "   macro avg       0.94      0.93      0.93        49\n",
            "weighted avg       0.94      0.94      0.94        49\n",
            "\n"
          ]
        },
        {
          "output_type": "display_data",
          "data": {
            "text/plain": [
              "<Figure size 640x480 with 2 Axes>"
            ],
            "image/png": "[encoded data removed]"
          },
          "metadata": {}
        }
      ]
    },
    {
      "cell_type": "code",
      "source": [
        "import warnings\n",
        "warnings.filterwarnings('ignore')\n",
        "from sklearn.model_selection import GridSearchCV\n",
        "lr1 = GridSearchCV(lr,param_grid = parameter,cv=5,scoring='accuracy')\n",
        "lr1.fit(x_train,y_train)"
      ],
      "metadata": {
        "colab": {
          "base_uri": "https://localhost:8080/",
          "height": 117
        },
        "id": "VmROJhtfdp18",
        "outputId": "85207770-38a2-41aa-927d-d3eef866a6dc"
      },
      "execution_count": 130,
      "outputs": [
        {
          "output_type": "execute_result",
          "data": {
            "text/plain": [
              "GridSearchCV(cv=5, estimator=LogisticRegression(),\n",
              "             param_grid={'penalty': ['l1', 'l2', 'elasticnet'],\n",
              "                         'solver': ['lbfgs', 'liblinear', 'newton-cg',\n",
              "                                    'newton-cholesky', 'sag', 'saga']},\n",
              "             scoring='accuracy')"
            ],
            "text/html": [
              "<style>#sk-container-id-3 {color: black;background-color: white;}#sk-container-id-3 pre{padding: 0;}#sk-container-id-3 div.sk-toggleable {background-color: white;}#sk-container-id-3 label.sk-toggleable__label {cursor: pointer;display: block;width: 100%;margin-bottom: 0;padding: 0.3em;box-sizing: border-box;text-align: center;}#sk-container-id-3 label.sk-toggleable__label-arrow:before {content: \"▸\";float: left;margin-right: 0.25em;color: #696969;}#sk-container-id-3 label.sk-toggleable__label-arrow:hover:before {color: black;}#sk-container-id-3 div.sk-estimator:hover label.sk-toggleable__label-arrow:before {color: black;}#sk-container-id-3 div.sk-toggleable__content {max-height: 0;max-width: 0;overflow: hidden;text-align: left;background-color: #f0f8ff;}#sk-container-id-3 div.sk-toggleable__content pre {margin: 0.2em;color: black;border-radius: 0.25em;background-color: #f0f8ff;}#sk-container-id-3 input.sk-toggleable__control:checked~div.sk-toggleable__content {max-height: 200px;max-width: 100%;overflow: auto;}#sk-container-id-3 input.sk-toggleable__control:checked~label.sk-toggleable__label-arrow:before {content: \"▾\";}#sk-container-id-3 div.sk-estimator input.sk-toggleable__control:checked~label.sk-toggleable__label {background-color: #d4ebff;}#sk-container-id-3 div.sk-label input.sk-toggleable__control:checked~label.sk-toggleable__label {background-color: #d4ebff;}#sk-container-id-3 input.sk-hidden--visually {border: 0;clip: rect(1px 1px 1px 1px);clip: rect(1px, 1px, 1px, 1px);height: 1px;margin: -1px;overflow: hidden;padding: 0;position: absolute;width: 1px;}#sk-container-id-3 div.sk-estimator {font-family: monospace;background-color: #f0f8ff;border: 1px dotted black;border-radius: 0.25em;box-sizing: border-box;margin-bottom: 0.5em;}#sk-container-id-3 div.sk-estimator:hover {background-color: #d4ebff;}#sk-container-id-3 div.sk-parallel-item::after {content: \"\";width: 100%;border-bottom: 1px solid gray;flex-grow: 1;}#sk-container-id-3 div.sk-label:hover label.sk-toggleable__label {background-color: #d4ebff;}#sk-container-id-3 div.sk-serial::before {content: \"\";position: absolute;border-left: 1px solid gray;box-sizing: border-box;top: 0;bottom: 0;left: 50%;z-index: 0;}#sk-container-id-3 div.sk-serial {display: flex;flex-direction: column;align-items: center;background-color: white;padding-right: 0.2em;padding-left: 0.2em;position: relative;}#sk-container-id-3 div.sk-item {position: relative;z-index: 1;}#sk-container-id-3 div.sk-parallel {display: flex;align-items: stretch;justify-content: center;background-color: white;position: relative;}#sk-container-id-3 div.sk-item::before, #sk-container-id-3 div.sk-parallel-item::before {content: \"\";position: absolute;border-left: 1px solid gray;box-sizing: border-box;top: 0;bottom: 0;left: 50%;z-index: -1;}#sk-container-id-3 div.sk-parallel-item {display: flex;flex-direction: column;z-index: 1;position: relative;background-color: white;}#sk-container-id-3 div.sk-parallel-item:first-child::after {align-self: flex-end;width: 50%;}#sk-container-id-3 div.sk-parallel-item:last-child::after {align-self: flex-start;width: 50%;}#sk-container-id-3 div.sk-parallel-item:only-child::after {width: 0;}#sk-container-id-3 div.sk-dashed-wrapped {border: 1px dashed gray;margin: 0 0.4em 0.5em 0.4em;box-sizing: border-box;padding-bottom: 0.4em;background-color: white;}#sk-container-id-3 div.sk-label label {font-family: monospace;font-weight: bold;display: inline-block;line-height: 1.2em;}#sk-container-id-3 div.sk-label-container {text-align: center;}#sk-container-id-3 div.sk-container {/* jupyter's `normalize.less` sets `[hidden] { display: none; }` but bootstrap.min.css set `[hidden] { display: none !important; }` so we also need the `!important` here to be able to override the default hidden behavior on the sphinx rendered scikit-learn.org. See: https://github.com/scikit-learn/scikit-learn/issues/21755 */display: inline-block !important;position: relative;}#sk-container-id-3 div.sk-text-repr-fallback {display: none;}</style><div id=\"sk-container-id-3\" class=\"sk-top-container\"><div class=\"sk-text-repr-fallback\"><pre>GridSearchCV(cv=5, estimator=LogisticRegression(),\n",
              "             param_grid={&#x27;penalty&#x27;: [&#x27;l1&#x27;, &#x27;l2&#x27;, &#x27;elasticnet&#x27;],\n",
              "                         &#x27;solver&#x27;: [&#x27;lbfgs&#x27;, &#x27;liblinear&#x27;, &#x27;newton-cg&#x27;,\n",
              "                                    &#x27;newton-cholesky&#x27;, &#x27;sag&#x27;, &#x27;saga&#x27;]},\n",
              "             scoring=&#x27;accuracy&#x27;)</pre><b>In a Jupyter environment, please rerun this cell to show the HTML representation or trust the notebook. <br />On GitHub, the HTML representation is unable to render, please try loading this page with nbviewer.org.</b></div><div class=\"sk-container\" hidden><div class=\"sk-item sk-dashed-wrapped\"><div class=\"sk-label-container\"><div class=\"sk-label sk-toggleable\"><input class=\"sk-toggleable__control sk-hidden--visually\" id=\"sk-estimator-id-5\" type=\"checkbox\" ><label for=\"sk-estimator-id-5\" class=\"sk-toggleable__label sk-toggleable__label-arrow\">GridSearchCV</label><div class=\"sk-toggleable__content\"><pre>GridSearchCV(cv=5, estimator=LogisticRegression(),\n",
              "             param_grid={&#x27;penalty&#x27;: [&#x27;l1&#x27;, &#x27;l2&#x27;, &#x27;elasticnet&#x27;],\n",
              "                         &#x27;solver&#x27;: [&#x27;lbfgs&#x27;, &#x27;liblinear&#x27;, &#x27;newton-cg&#x27;,\n",
              "                                    &#x27;newton-cholesky&#x27;, &#x27;sag&#x27;, &#x27;saga&#x27;]},\n",
              "             scoring=&#x27;accuracy&#x27;)</pre></div></div></div><div class=\"sk-parallel\"><div class=\"sk-parallel-item\"><div class=\"sk-item\"><div class=\"sk-label-container\"><div class=\"sk-label sk-toggleable\"><input class=\"sk-toggleable__control sk-hidden--visually\" id=\"sk-estimator-id-6\" type=\"checkbox\" ><label for=\"sk-estimator-id-6\" class=\"sk-toggleable__label sk-toggleable__label-arrow\">estimator: LogisticRegression</label><div class=\"sk-toggleable__content\"><pre>LogisticRegression()</pre></div></div></div><div class=\"sk-serial\"><div class=\"sk-item\"><div class=\"sk-estimator sk-toggleable\"><input class=\"sk-toggleable__control sk-hidden--visually\" id=\"sk-estimator-id-7\" type=\"checkbox\" ><label for=\"sk-estimator-id-7\" class=\"sk-toggleable__label sk-toggleable__label-arrow\">LogisticRegression</label><div class=\"sk-toggleable__content\"><pre>LogisticRegression()</pre></div></div></div></div></div></div></div></div></div></div>"
            ]
          },
          "metadata": {},
          "execution_count": 130
        }
      ]
    },
    {
      "cell_type": "code",
      "source": [
        "from sklearn.metrics import confusion_matrix,accuracy_score,classification_report\n",
        "y_pred = lr1.predict(x_test)\n",
        "print(accuracy_score(y_pred,y_test))\n",
        "print(sns.heatmap(confusion_matrix(y_pred,y_test),annot=True))\n",
        "print(classification_report(y_pred,y_test))"
      ],
      "metadata": {
        "colab": {
          "base_uri": "https://localhost:8080/",
          "height": 643
        },
        "id": "IJEcA1fOexAz",
        "outputId": "28beaba5-2708-42af-dab0-541ff4f23843"
      },
      "execution_count": 134,
      "outputs": [
        {
          "output_type": "stream",
          "name": "stdout",
          "text": [
            "0.9795918367346939\n",
            "Axes(0.125,0.11;0.62x0.77)\n",
            "              precision    recall  f1-score   support\n",
            "\n",
            "           0       1.00      1.00      1.00        18\n",
            "           1       0.92      1.00      0.96        12\n",
            "           2       1.00      0.95      0.97        19\n",
            "\n",
            "    accuracy                           0.98        49\n",
            "   macro avg       0.97      0.98      0.98        49\n",
            "weighted avg       0.98      0.98      0.98        49\n",
            "\n"
          ]
        },
        {
          "output_type": "display_data",
          "data": {
            "text/plain": [
              "<Figure size 640x480 with 2 Axes>"
            ],
            "image/png": "[encoded data removed]"
          },
          "metadata": {}
        }
      ]
    },
    {
      "cell_type": "markdown",
      "source": [
        "**Logistic Regression Accuracy is : 97.95%**"
      ],
      "metadata": {
        "id": "sKIcHE7qfT0h"
      }
    },
    {
      "cell_type": "code",
      "source": [
        "from sklearn.ensemble import RandomForestClassifier\n",
        "rfc = RandomForestClassifier()\n",
        "rfc.fit(x_train,y_train)"
      ],
      "metadata": {
        "colab": {
          "base_uri": "https://localhost:8080/",
          "height": 74
        },
        "id": "IG0SQtl6fLJA",
        "outputId": "885a551a-d50b-42a8-82bb-8b4d8ea13169"
      },
      "execution_count": 135,
      "outputs": [
        {
          "output_type": "execute_result",
          "data": {
            "text/plain": [
              "RandomForestClassifier()"
            ],
            "text/html": [
              "<style>#sk-container-id-4 {color: black;background-color: white;}#sk-container-id-4 pre{padding: 0;}#sk-container-id-4 div.sk-toggleable {background-color: white;}#sk-container-id-4 label.sk-toggleable__label {cursor: pointer;display: block;width: 100%;margin-bottom: 0;padding: 0.3em;box-sizing: border-box;text-align: center;}#sk-container-id-4 label.sk-toggleable__label-arrow:before {content: \"▸\";float: left;margin-right: 0.25em;color: #696969;}#sk-container-id-4 label.sk-toggleable__label-arrow:hover:before {color: black;}#sk-container-id-4 div.sk-estimator:hover label.sk-toggleable__label-arrow:before {color: black;}#sk-container-id-4 div.sk-toggleable__content {max-height: 0;max-width: 0;overflow: hidden;text-align: left;background-color: #f0f8ff;}#sk-container-id-4 div.sk-toggleable__content pre {margin: 0.2em;color: black;border-radius: 0.25em;background-color: #f0f8ff;}#sk-container-id-4 input.sk-toggleable__control:checked~div.sk-toggleable__content {max-height: 200px;max-width: 100%;overflow: auto;}#sk-container-id-4 input.sk-toggleable__control:checked~label.sk-toggleable__label-arrow:before {content: \"▾\";}#sk-container-id-4 div.sk-estimator input.sk-toggleable__control:checked~label.sk-toggleable__label {background-color: #d4ebff;}#sk-container-id-4 div.sk-label input.sk-toggleable__control:checked~label.sk-toggleable__label {background-color: #d4ebff;}#sk-container-id-4 input.sk-hidden--visually {border: 0;clip: rect(1px 1px 1px 1px);clip: rect(1px, 1px, 1px, 1px);height: 1px;margin: -1px;overflow: hidden;padding: 0;position: absolute;width: 1px;}#sk-container-id-4 div.sk-estimator {font-family: monospace;background-color: #f0f8ff;border: 1px dotted black;border-radius: 0.25em;box-sizing: border-box;margin-bottom: 0.5em;}#sk-container-id-4 div.sk-estimator:hover {background-color: #d4ebff;}#sk-container-id-4 div.sk-parallel-item::after {content: \"\";width: 100%;border-bottom: 1px solid gray;flex-grow: 1;}#sk-container-id-4 div.sk-label:hover label.sk-toggleable__label {background-color: #d4ebff;}#sk-container-id-4 div.sk-serial::before {content: \"\";position: absolute;border-left: 1px solid gray;box-sizing: border-box;top: 0;bottom: 0;left: 50%;z-index: 0;}#sk-container-id-4 div.sk-serial {display: flex;flex-direction: column;align-items: center;background-color: white;padding-right: 0.2em;padding-left: 0.2em;position: relative;}#sk-container-id-4 div.sk-item {position: relative;z-index: 1;}#sk-container-id-4 div.sk-parallel {display: flex;align-items: stretch;justify-content: center;background-color: white;position: relative;}#sk-container-id-4 div.sk-item::before, #sk-container-id-4 div.sk-parallel-item::before {content: \"\";position: absolute;border-left: 1px solid gray;box-sizing: border-box;top: 0;bottom: 0;left: 50%;z-index: -1;}#sk-container-id-4 div.sk-parallel-item {display: flex;flex-direction: column;z-index: 1;position: relative;background-color: white;}#sk-container-id-4 div.sk-parallel-item:first-child::after {align-self: flex-end;width: 50%;}#sk-container-id-4 div.sk-parallel-item:last-child::after {align-self: flex-start;width: 50%;}#sk-container-id-4 div.sk-parallel-item:only-child::after {width: 0;}#sk-container-id-4 div.sk-dashed-wrapped {border: 1px dashed gray;margin: 0 0.4em 0.5em 0.4em;box-sizing: border-box;padding-bottom: 0.4em;background-color: white;}#sk-container-id-4 div.sk-label label {font-family: monospace;font-weight: bold;display: inline-block;line-height: 1.2em;}#sk-container-id-4 div.sk-label-container {text-align: center;}#sk-container-id-4 div.sk-container {/* jupyter's `normalize.less` sets `[hidden] { display: none; }` but bootstrap.min.css set `[hidden] { display: none !important; }` so we also need the `!important` here to be able to override the default hidden behavior on the sphinx rendered scikit-learn.org. See: https://github.com/scikit-learn/scikit-learn/issues/21755 */display: inline-block !important;position: relative;}#sk-container-id-4 div.sk-text-repr-fallback {display: none;}</style><div id=\"sk-container-id-4\" class=\"sk-top-container\"><div class=\"sk-text-repr-fallback\"><pre>RandomForestClassifier()</pre><b>In a Jupyter environment, please rerun this cell to show the HTML representation or trust the notebook. <br />On GitHub, the HTML representation is unable to render, please try loading this page with nbviewer.org.</b></div><div class=\"sk-container\" hidden><div class=\"sk-item\"><div class=\"sk-estimator sk-toggleable\"><input class=\"sk-toggleable__control sk-hidden--visually\" id=\"sk-estimator-id-8\" type=\"checkbox\" checked><label for=\"sk-estimator-id-8\" class=\"sk-toggleable__label sk-toggleable__label-arrow\">RandomForestClassifier</label><div class=\"sk-toggleable__content\"><pre>RandomForestClassifier()</pre></div></div></div></div></div>"
            ]
          },
          "metadata": {},
          "execution_count": 135
        }
      ]
    },
    {
      "cell_type": "code",
      "source": [
        "y_pred = rfc.predict(x_test)\n",
        "print(accuracy_score(y_pred,y_test))\n",
        "print(sns.heatmap(confusion_matrix(y_pred,y_test),annot=True))\n",
        "print(classification_report(y_pred,y_test))"
      ],
      "metadata": {
        "colab": {
          "base_uri": "https://localhost:8080/",
          "height": 643
        },
        "id": "bzJpmuKofma7",
        "outputId": "b75d09ab-e402-45cd-cb0b-7744a40c572b"
      },
      "execution_count": 136,
      "outputs": [
        {
          "output_type": "stream",
          "name": "stdout",
          "text": [
            "0.9591836734693877\n",
            "Axes(0.125,0.11;0.62x0.77)\n",
            "              precision    recall  f1-score   support\n",
            "\n",
            "           0       1.00      1.00      1.00        18\n",
            "           1       0.92      0.92      0.92        13\n",
            "           2       0.94      0.94      0.94        18\n",
            "\n",
            "    accuracy                           0.96        49\n",
            "   macro avg       0.96      0.96      0.96        49\n",
            "weighted avg       0.96      0.96      0.96        49\n",
            "\n"
          ]
        },
        {
          "output_type": "display_data",
          "data": {
            "text/plain": [
              "<Figure size 640x480 with 2 Axes>"
            ],
            "image/png": "[encoded data removed]"
          },
          "metadata": {}
        }
      ]
    },
    {
      "cell_type": "code",
      "source": [
        "parameters = {\n",
        "    'criterion' : ['gini', 'entropy', 'log_loss'],\n",
        "    'max_features': ['sqrt', 'log2'],\n",
        "    'max_depth' : [1,2,3,4,5,6,7,8,9,10]\n",
        "}"
      ],
      "metadata": {
        "id": "3m4Ec8xGgORv"
      },
      "execution_count": 138,
      "outputs": []
    },
    {
      "cell_type": "code",
      "source": [
        "rfc1 = GridSearchCV(rfc,param_grid=parameters,cv=5,verbose=3,scoring='accuracy')\n",
        "rfc1.fit(x_train,y_train)"
      ],
      "metadata": {
        "colab": {
          "base_uri": "https://localhost:8080/",
          "height": 1000
        },
        "id": "psfZSNRzgf-4",
        "outputId": "2d66cbdd-712e-4a9e-c302-3b5773d105f9"
      },
      "execution_count": 139,
      "outputs": [
        {
          "output_type": "stream",
          "name": "stdout",
          "text": [
            "Fitting 5 folds for each of 60 candidates, totalling 300 fits\n",
            "[CV 1/5] END criterion=gini, max_depth=1, max_features=sqrt;, score=0.900 total time=   0.6s\n",
            "[CV 2/5] END criterion=gini, max_depth=1, max_features=sqrt;, score=0.950 total time=   0.5s\n",
            "[CV 3/5] END criterion=gini, max_depth=1, max_features=sqrt;, score=1.000 total time=   0.6s\n",
            "[CV 4/5] END criterion=gini, max_depth=1, max_features=sqrt;, score=1.000 total time=   0.5s\n",
            "[CV 5/5] END criterion=gini, max_depth=1, max_features=sqrt;, score=0.895 total time=   1.0s\n",
            "[CV 1/5] END criterion=gini, max_depth=1, max_features=log2;, score=0.900 total time=   0.4s\n",
            "[CV 2/5] END criterion=gini, max_depth=1, max_features=log2;, score=0.950 total time=   0.3s\n",
            "[CV 3/5] END criterion=gini, max_depth=1, max_features=log2;, score=1.000 total time=   0.3s\n",
            "[CV 4/5] END criterion=gini, max_depth=1, max_features=log2;, score=1.000 total time=   0.3s\n",
            "[CV 5/5] END criterion=gini, max_depth=1, max_features=log2;, score=0.895 total time=   0.2s\n",
            "[CV 1/5] END criterion=gini, max_depth=2, max_features=sqrt;, score=0.900 total time=   0.7s\n",
            "[CV 2/5] END criterion=gini, max_depth=2, max_features=sqrt;, score=0.950 total time=   1.0s\n",
            "[CV 3/5] END criterion=gini, max_depth=2, max_features=sqrt;, score=1.000 total time=   0.4s\n",
            "[CV 4/5] END criterion=gini, max_depth=2, max_features=sqrt;, score=1.000 total time=   0.4s\n",
            "[CV 5/5] END criterion=gini, max_depth=2, max_features=sqrt;, score=0.895 total time=   0.5s\n",
            "[CV 1/5] END criterion=gini, max_depth=2, max_features=log2;, score=0.900 total time=   0.3s\n",
            "[CV 2/5] END criterion=gini, max_depth=2, max_features=log2;, score=0.950 total time=   0.5s\n",
            "[CV 3/5] END criterion=gini, max_depth=2, max_features=log2;, score=1.000 total time=   0.4s\n",
            "[CV 4/5] END criterion=gini, max_depth=2, max_features=log2;, score=1.000 total time=   0.5s\n",
            "[CV 5/5] END criterion=gini, max_depth=2, max_features=log2;, score=0.895 total time=   0.4s\n",
            "[CV 1/5] END criterion=gini, max_depth=3, max_features=sqrt;, score=0.900 total time=   0.3s\n",
            "[CV 2/5] END criterion=gini, max_depth=3, max_features=sqrt;, score=0.950 total time=   0.5s\n",
            "[CV 3/5] END criterion=gini, max_depth=3, max_features=sqrt;, score=1.000 total time=   0.4s\n",
            "[CV 4/5] END criterion=gini, max_depth=3, max_features=sqrt;, score=1.000 total time=   0.4s\n",
            "[CV 5/5] END criterion=gini, max_depth=3, max_features=sqrt;, score=0.947 total time=   0.4s\n",
            "[CV 1/5] END criterion=gini, max_depth=3, max_features=log2;, score=0.900 total time=   0.4s\n",
            "[CV 2/5] END criterion=gini, max_depth=3, max_features=log2;, score=0.950 total time=   0.3s\n",
            "[CV 3/5] END criterion=gini, max_depth=3, max_features=log2;, score=1.000 total time=   0.3s\n",
            "[CV 4/5] END criterion=gini, max_depth=3, max_features=log2;, score=1.000 total time=   0.4s\n",
            "[CV 5/5] END criterion=gini, max_depth=3, max_features=log2;, score=0.895 total time=   0.7s\n",
            "[CV 1/5] END criterion=gini, max_depth=4, max_features=sqrt;, score=0.900 total time=   1.2s\n",
            "[CV 2/5] END criterion=gini, max_depth=4, max_features=sqrt;, score=0.950 total time=   0.8s\n",
            "[CV 3/5] END criterion=gini, max_depth=4, max_features=sqrt;, score=1.000 total time=   0.2s\n",
            "[CV 4/5] END criterion=gini, max_depth=4, max_features=sqrt;, score=1.000 total time=   0.2s\n",
            "[CV 5/5] END criterion=gini, max_depth=4, max_features=sqrt;, score=0.947 total time=   0.2s\n",
            "[CV 1/5] END criterion=gini, max_depth=4, max_features=log2;, score=0.900 total time=   0.2s\n",
            "[CV 2/5] END criterion=gini, max_depth=4, max_features=log2;, score=0.950 total time=   0.1s\n",
            "[CV 3/5] END criterion=gini, max_depth=4, max_features=log2;, score=1.000 total time=   0.2s\n",
            "[CV 4/5] END criterion=gini, max_depth=4, max_features=log2;, score=1.000 total time=   0.2s\n",
            "[CV 5/5] END criterion=gini, max_depth=4, max_features=log2;, score=0.947 total time=   0.1s\n",
            "[CV 1/5] END criterion=gini, max_depth=5, max_features=sqrt;, score=0.900 total time=   0.1s\n",
            "[CV 2/5] END criterion=gini, max_depth=5, max_features=sqrt;, score=0.950 total time=   0.1s\n",
            "[CV 3/5] END criterion=gini, max_depth=5, max_features=sqrt;, score=1.000 total time=   0.2s\n",
            "[CV 4/5] END criterion=gini, max_depth=5, max_features=sqrt;, score=1.000 total time=   0.2s\n",
            "[CV 5/5] END criterion=gini, max_depth=5, max_features=sqrt;, score=0.947 total time=   0.2s\n",
            "[CV 1/5] END criterion=gini, max_depth=5, max_features=log2;, score=0.900 total time=   0.2s\n",
            "[CV 2/5] END criterion=gini, max_depth=5, max_features=log2;, score=0.950 total time=   0.1s\n",
            "[CV 3/5] END criterion=gini, max_depth=5, max_features=log2;, score=1.000 total time=   0.1s\n",
            "[CV 4/5] END criterion=gini, max_depth=5, max_features=log2;, score=1.000 total time=   0.1s\n",
            "[CV 5/5] END criterion=gini, max_depth=5, max_features=log2;, score=0.947 total time=   0.2s\n",
            "[CV 1/5] END criterion=gini, max_depth=6, max_features=sqrt;, score=0.900 total time=   0.2s\n",
            "[CV 2/5] END criterion=gini, max_depth=6, max_features=sqrt;, score=0.950 total time=   0.2s\n",
            "[CV 3/5] END criterion=gini, max_depth=6, max_features=sqrt;, score=1.000 total time=   0.1s\n",
            "[CV 4/5] END criterion=gini, max_depth=6, max_features=sqrt;, score=1.000 total time=   0.2s\n",
            "[CV 5/5] END criterion=gini, max_depth=6, max_features=sqrt;, score=0.947 total time=   0.2s\n",
            "[CV 1/5] END criterion=gini, max_depth=6, max_features=log2;, score=0.900 total time=   0.2s\n",
            "[CV 2/5] END criterion=gini, max_depth=6, max_features=log2;, score=0.950 total time=   0.1s\n",
            "[CV 3/5] END criterion=gini, max_depth=6, max_features=log2;, score=1.000 total time=   0.2s\n",
            "[CV 4/5] END criterion=gini, max_depth=6, max_features=log2;, score=1.000 total time=   0.2s\n",
            "[CV 5/5] END criterion=gini, max_depth=6, max_features=log2;, score=0.947 total time=   0.1s\n",
            "[CV 1/5] END criterion=gini, max_depth=7, max_features=sqrt;, score=0.900 total time=   0.1s\n",
            "[CV 2/5] END criterion=gini, max_depth=7, max_features=sqrt;, score=0.950 total time=   0.1s\n",
            "[CV 3/5] END criterion=gini, max_depth=7, max_features=sqrt;, score=1.000 total time=   0.2s\n",
            "[CV 4/5] END criterion=gini, max_depth=7, max_features=sqrt;, score=1.000 total time=   0.2s\n",
            "[CV 5/5] END criterion=gini, max_depth=7, max_features=sqrt;, score=0.947 total time=   0.2s\n",
            "[CV 1/5] END criterion=gini, max_depth=7, max_features=log2;, score=0.900 total time=   0.1s\n",
            "[CV 2/5] END criterion=gini, max_depth=7, max_features=log2;, score=0.950 total time=   0.1s\n",
            "[CV 3/5] END criterion=gini, max_depth=7, max_features=log2;, score=1.000 total time=   0.2s\n",
            "[CV 4/5] END criterion=gini, max_depth=7, max_features=log2;, score=1.000 total time=   0.1s\n",
            "[CV 5/5] END criterion=gini, max_depth=7, max_features=log2;, score=0.947 total time=   0.2s\n",
            "[CV 1/5] END criterion=gini, max_depth=8, max_features=sqrt;, score=0.900 total time=   0.2s\n",
            "[CV 2/5] END criterion=gini, max_depth=8, max_features=sqrt;, score=0.950 total time=   0.1s\n",
            "[CV 3/5] END criterion=gini, max_depth=8, max_features=sqrt;, score=1.000 total time=   0.1s\n",
            "[CV 4/5] END criterion=gini, max_depth=8, max_features=sqrt;, score=1.000 total time=   0.2s\n",
            "[CV 5/5] END criterion=gini, max_depth=8, max_features=sqrt;, score=0.947 total time=   0.2s\n",
            "[CV 1/5] END criterion=gini, max_depth=8, max_features=log2;, score=0.900 total time=   0.1s\n",
            "[CV 2/5] END criterion=gini, max_depth=8, max_features=log2;, score=0.950 total time=   0.2s\n",
            "[CV 3/5] END criterion=gini, max_depth=8, max_features=log2;, score=1.000 total time=   0.2s\n",
            "[CV 4/5] END criterion=gini, max_depth=8, max_features=log2;, score=1.000 total time=   0.2s\n",
            "[CV 5/5] END criterion=gini, max_depth=8, max_features=log2;, score=0.947 total time=   0.2s\n",
            "[CV 1/5] END criterion=gini, max_depth=9, max_features=sqrt;, score=0.900 total time=   0.1s\n",
            "[CV 2/5] END criterion=gini, max_depth=9, max_features=sqrt;, score=0.950 total time=   0.1s\n",
            "[CV 3/5] END criterion=gini, max_depth=9, max_features=sqrt;, score=1.000 total time=   0.2s\n",
            "[CV 4/5] END criterion=gini, max_depth=9, max_features=sqrt;, score=1.000 total time=   0.1s\n",
            "[CV 5/5] END criterion=gini, max_depth=9, max_features=sqrt;, score=0.947 total time=   0.2s\n",
            "[CV 1/5] END criterion=gini, max_depth=9, max_features=log2;, score=0.900 total time=   0.1s\n",
            "[CV 2/5] END criterion=gini, max_depth=9, max_features=log2;, score=0.950 total time=   0.1s\n",
            "[CV 3/5] END criterion=gini, max_depth=9, max_features=log2;, score=1.000 total time=   0.2s\n",
            "[CV 4/5] END criterion=gini, max_depth=9, max_features=log2;, score=1.000 total time=   0.1s\n",
            "[CV 5/5] END criterion=gini, max_depth=9, max_features=log2;, score=0.947 total time=   0.2s\n",
            "[CV 1/5] END criterion=gini, max_depth=10, max_features=sqrt;, score=0.900 total time=   0.2s\n",
            "[CV 2/5] END criterion=gini, max_depth=10, max_features=sqrt;, score=0.950 total time=   0.1s\n",
            "[CV 3/5] END criterion=gini, max_depth=10, max_features=sqrt;, score=1.000 total time=   0.1s\n",
            "[CV 4/5] END criterion=gini, max_depth=10, max_features=sqrt;, score=1.000 total time=   0.1s\n",
            "[CV 5/5] END criterion=gini, max_depth=10, max_features=sqrt;, score=0.895 total time=   0.1s\n",
            "[CV 1/5] END criterion=gini, max_depth=10, max_features=log2;, score=0.900 total time=   0.2s\n",
            "[CV 2/5] END criterion=gini, max_depth=10, max_features=log2;, score=0.950 total time=   0.2s\n",
            "[CV 3/5] END criterion=gini, max_depth=10, max_features=log2;, score=1.000 total time=   0.2s\n",
            "[CV 4/5] END criterion=gini, max_depth=10, max_features=log2;, score=1.000 total time=   0.1s\n",
            "[CV 5/5] END criterion=gini, max_depth=10, max_features=log2;, score=0.947 total time=   0.2s\n",
            "[CV 1/5] END criterion=entropy, max_depth=1, max_features=sqrt;, score=0.950 total time=   0.2s\n",
            "[CV 2/5] END criterion=entropy, max_depth=1, max_features=sqrt;, score=0.950 total time=   0.2s\n",
            "[CV 3/5] END criterion=entropy, max_depth=1, max_features=sqrt;, score=0.950 total time=   0.3s\n",
            "[CV 4/5] END criterion=entropy, max_depth=1, max_features=sqrt;, score=1.000 total time=   0.2s\n",
            "[CV 5/5] END criterion=entropy, max_depth=1, max_features=sqrt;, score=0.895 total time=   0.2s\n",
            "[CV 1/5] END criterion=entropy, max_depth=1, max_features=log2;, score=0.900 total time=   0.2s\n",
            "[CV 2/5] END criterion=entropy, max_depth=1, max_features=log2;, score=0.950 total time=   0.3s\n",
            "[CV 3/5] END criterion=entropy, max_depth=1, max_features=log2;, score=0.700 total time=   0.2s\n",
            "[CV 4/5] END criterion=entropy, max_depth=1, max_features=log2;, score=0.684 total time=   0.2s\n",
            "[CV 5/5] END criterion=entropy, max_depth=1, max_features=log2;, score=0.895 total time=   0.2s\n",
            "[CV 1/5] END criterion=entropy, max_depth=2, max_features=sqrt;, score=0.900 total time=   0.3s\n",
            "[CV 2/5] END criterion=entropy, max_depth=2, max_features=sqrt;, score=0.950 total time=   0.2s\n",
            "[CV 3/5] END criterion=entropy, max_depth=2, max_features=sqrt;, score=1.000 total time=   0.2s\n",
            "[CV 4/5] END criterion=entropy, max_depth=2, max_features=sqrt;, score=1.000 total time=   0.2s\n",
            "[CV 5/5] END criterion=entropy, max_depth=2, max_features=sqrt;, score=0.895 total time=   0.2s\n",
            "[CV 1/5] END criterion=entropy, max_depth=2, max_features=log2;, score=0.900 total time=   0.2s\n",
            "[CV 2/5] END criterion=entropy, max_depth=2, max_features=log2;, score=0.950 total time=   0.1s\n",
            "[CV 3/5] END criterion=entropy, max_depth=2, max_features=log2;, score=1.000 total time=   0.1s\n",
            "[CV 4/5] END criterion=entropy, max_depth=2, max_features=log2;, score=1.000 total time=   0.1s\n",
            "[CV 5/5] END criterion=entropy, max_depth=2, max_features=log2;, score=0.895 total time=   0.1s\n",
            "[CV 1/5] END criterion=entropy, max_depth=3, max_features=sqrt;, score=0.900 total time=   0.1s\n",
            "[CV 2/5] END criterion=entropy, max_depth=3, max_features=sqrt;, score=0.950 total time=   0.2s\n",
            "[CV 3/5] END criterion=entropy, max_depth=3, max_features=sqrt;, score=1.000 total time=   0.2s\n",
            "[CV 4/5] END criterion=entropy, max_depth=3, max_features=sqrt;, score=1.000 total time=   0.2s\n",
            "[CV 5/5] END criterion=entropy, max_depth=3, max_features=sqrt;, score=0.895 total time=   0.2s\n",
            "[CV 1/5] END criterion=entropy, max_depth=3, max_features=log2;, score=0.900 total time=   0.2s\n",
            "[CV 2/5] END criterion=entropy, max_depth=3, max_features=log2;, score=0.950 total time=   0.1s\n",
            "[CV 3/5] END criterion=entropy, max_depth=3, max_features=log2;, score=1.000 total time=   0.2s\n",
            "[CV 4/5] END criterion=entropy, max_depth=3, max_features=log2;, score=1.000 total time=   0.2s\n",
            "[CV 5/5] END criterion=entropy, max_depth=3, max_features=log2;, score=0.895 total time=   0.2s\n",
            "[CV 1/5] END criterion=entropy, max_depth=4, max_features=sqrt;, score=0.900 total time=   0.1s\n",
            "[CV 2/5] END criterion=entropy, max_depth=4, max_features=sqrt;, score=0.950 total time=   0.2s\n",
            "[CV 3/5] END criterion=entropy, max_depth=4, max_features=sqrt;, score=1.000 total time=   0.1s\n",
            "[CV 4/5] END criterion=entropy, max_depth=4, max_features=sqrt;, score=1.000 total time=   0.2s\n",
            "[CV 5/5] END criterion=entropy, max_depth=4, max_features=sqrt;, score=0.947 total time=   0.1s\n",
            "[CV 1/5] END criterion=entropy, max_depth=4, max_features=log2;, score=0.900 total time=   0.2s\n",
            "[CV 2/5] END criterion=entropy, max_depth=4, max_features=log2;, score=0.950 total time=   0.2s\n",
            "[CV 3/5] END criterion=entropy, max_depth=4, max_features=log2;, score=1.000 total time=   0.1s\n",
            "[CV 4/5] END criterion=entropy, max_depth=4, max_features=log2;, score=1.000 total time=   0.1s\n",
            "[CV 5/5] END criterion=entropy, max_depth=4, max_features=log2;, score=0.947 total time=   0.2s\n",
            "[CV 1/5] END criterion=entropy, max_depth=5, max_features=sqrt;, score=0.900 total time=   0.1s\n",
            "[CV 2/5] END criterion=entropy, max_depth=5, max_features=sqrt;, score=0.950 total time=   0.2s\n",
            "[CV 3/5] END criterion=entropy, max_depth=5, max_features=sqrt;, score=1.000 total time=   0.1s\n",
            "[CV 4/5] END criterion=entropy, max_depth=5, max_features=sqrt;, score=1.000 total time=   0.2s\n",
            "[CV 5/5] END criterion=entropy, max_depth=5, max_features=sqrt;, score=0.947 total time=   0.1s\n",
            "[CV 1/5] END criterion=entropy, max_depth=5, max_features=log2;, score=0.900 total time=   0.2s\n",
            "[CV 2/5] END criterion=entropy, max_depth=5, max_features=log2;, score=0.950 total time=   0.1s\n",
            "[CV 3/5] END criterion=entropy, max_depth=5, max_features=log2;, score=1.000 total time=   0.2s\n",
            "[CV 4/5] END criterion=entropy, max_depth=5, max_features=log2;, score=1.000 total time=   0.2s\n",
            "[CV 5/5] END criterion=entropy, max_depth=5, max_features=log2;, score=0.947 total time=   0.2s\n",
            "[CV 1/5] END criterion=entropy, max_depth=6, max_features=sqrt;, score=0.900 total time=   0.1s\n",
            "[CV 2/5] END criterion=entropy, max_depth=6, max_features=sqrt;, score=0.950 total time=   0.2s\n",
            "[CV 3/5] END criterion=entropy, max_depth=6, max_features=sqrt;, score=1.000 total time=   0.1s\n",
            "[CV 4/5] END criterion=entropy, max_depth=6, max_features=sqrt;, score=1.000 total time=   0.2s\n",
            "[CV 5/5] END criterion=entropy, max_depth=6, max_features=sqrt;, score=0.947 total time=   0.1s\n",
            "[CV 1/5] END criterion=entropy, max_depth=6, max_features=log2;, score=0.900 total time=   0.2s\n",
            "[CV 2/5] END criterion=entropy, max_depth=6, max_features=log2;, score=0.950 total time=   0.1s\n",
            "[CV 3/5] END criterion=entropy, max_depth=6, max_features=log2;, score=1.000 total time=   0.1s\n",
            "[CV 4/5] END criterion=entropy, max_depth=6, max_features=log2;, score=1.000 total time=   0.1s\n",
            "[CV 5/5] END criterion=entropy, max_depth=6, max_features=log2;, score=0.947 total time=   0.2s\n",
            "[CV 1/5] END criterion=entropy, max_depth=7, max_features=sqrt;, score=0.900 total time=   0.1s\n",
            "[CV 2/5] END criterion=entropy, max_depth=7, max_features=sqrt;, score=0.950 total time=   0.2s\n",
            "[CV 3/5] END criterion=entropy, max_depth=7, max_features=sqrt;, score=1.000 total time=   0.1s\n",
            "[CV 4/5] END criterion=entropy, max_depth=7, max_features=sqrt;, score=1.000 total time=   0.2s\n",
            "[CV 5/5] END criterion=entropy, max_depth=7, max_features=sqrt;, score=0.947 total time=   0.1s\n",
            "[CV 1/5] END criterion=entropy, max_depth=7, max_features=log2;, score=0.900 total time=   0.1s\n",
            "[CV 2/5] END criterion=entropy, max_depth=7, max_features=log2;, score=0.950 total time=   0.1s\n",
            "[CV 3/5] END criterion=entropy, max_depth=7, max_features=log2;, score=1.000 total time=   0.2s\n",
            "[CV 4/5] END criterion=entropy, max_depth=7, max_features=log2;, score=1.000 total time=   0.2s\n",
            "[CV 5/5] END criterion=entropy, max_depth=7, max_features=log2;, score=0.947 total time=   0.1s\n",
            "[CV 1/5] END criterion=entropy, max_depth=8, max_features=sqrt;, score=0.900 total time=   0.1s\n",
            "[CV 2/5] END criterion=entropy, max_depth=8, max_features=sqrt;, score=0.950 total time=   0.2s\n",
            "[CV 3/5] END criterion=entropy, max_depth=8, max_features=sqrt;, score=1.000 total time=   0.2s\n",
            "[CV 4/5] END criterion=entropy, max_depth=8, max_features=sqrt;, score=1.000 total time=   0.2s\n",
            "[CV 5/5] END criterion=entropy, max_depth=8, max_features=sqrt;, score=0.947 total time=   0.1s\n",
            "[CV 1/5] END criterion=entropy, max_depth=8, max_features=log2;, score=0.900 total time=   0.2s\n",
            "[CV 2/5] END criterion=entropy, max_depth=8, max_features=log2;, score=0.950 total time=   0.1s\n",
            "[CV 3/5] END criterion=entropy, max_depth=8, max_features=log2;, score=1.000 total time=   0.2s\n",
            "[CV 4/5] END criterion=entropy, max_depth=8, max_features=log2;, score=1.000 total time=   0.1s\n",
            "[CV 5/5] END criterion=entropy, max_depth=8, max_features=log2;, score=0.895 total time=   0.2s\n",
            "[CV 1/5] END criterion=entropy, max_depth=9, max_features=sqrt;, score=0.900 total time=   0.2s\n",
            "[CV 2/5] END criterion=entropy, max_depth=9, max_features=sqrt;, score=0.950 total time=   0.2s\n",
            "[CV 3/5] END criterion=entropy, max_depth=9, max_features=sqrt;, score=1.000 total time=   0.2s\n",
            "[CV 4/5] END criterion=entropy, max_depth=9, max_features=sqrt;, score=1.000 total time=   0.2s\n",
            "[CV 5/5] END criterion=entropy, max_depth=9, max_features=sqrt;, score=0.947 total time=   0.2s\n",
            "[CV 1/5] END criterion=entropy, max_depth=9, max_features=log2;, score=0.900 total time=   0.3s\n",
            "[CV 2/5] END criterion=entropy, max_depth=9, max_features=log2;, score=0.950 total time=   0.2s\n",
            "[CV 3/5] END criterion=entropy, max_depth=9, max_features=log2;, score=1.000 total time=   0.2s\n",
            "[CV 4/5] END criterion=entropy, max_depth=9, max_features=log2;, score=1.000 total time=   0.3s\n",
            "[CV 5/5] END criterion=entropy, max_depth=9, max_features=log2;, score=0.947 total time=   0.2s\n",
            "[CV 1/5] END criterion=entropy, max_depth=10, max_features=sqrt;, score=0.900 total time=   0.2s\n",
            "[CV 2/5] END criterion=entropy, max_depth=10, max_features=sqrt;, score=0.950 total time=   0.2s\n",
            "[CV 3/5] END criterion=entropy, max_depth=10, max_features=sqrt;, score=1.000 total time=   0.2s\n",
            "[CV 4/5] END criterion=entropy, max_depth=10, max_features=sqrt;, score=1.000 total time=   0.2s\n",
            "[CV 5/5] END criterion=entropy, max_depth=10, max_features=sqrt;, score=0.947 total time=   0.2s\n",
            "[CV 1/5] END criterion=entropy, max_depth=10, max_features=log2;, score=0.900 total time=   0.2s\n",
            "[CV 2/5] END criterion=entropy, max_depth=10, max_features=log2;, score=0.950 total time=   0.2s\n",
            "[CV 3/5] END criterion=entropy, max_depth=10, max_features=log2;, score=1.000 total time=   0.2s\n",
            "[CV 4/5] END criterion=entropy, max_depth=10, max_features=log2;, score=1.000 total time=   0.2s\n",
            "[CV 5/5] END criterion=entropy, max_depth=10, max_features=log2;, score=0.947 total time=   0.1s\n",
            "[CV 1/5] END criterion=log_loss, max_depth=1, max_features=sqrt;, score=0.950 total time=   0.2s\n",
            "[CV 2/5] END criterion=log_loss, max_depth=1, max_features=sqrt;, score=0.950 total time=   0.1s\n",
            "[CV 3/5] END criterion=log_loss, max_depth=1, max_features=sqrt;, score=0.650 total time=   0.2s\n",
            "[CV 4/5] END criterion=log_loss, max_depth=1, max_features=sqrt;, score=0.684 total time=   0.1s\n",
            "[CV 5/5] END criterion=log_loss, max_depth=1, max_features=sqrt;, score=0.895 total time=   0.1s\n",
            "[CV 1/5] END criterion=log_loss, max_depth=1, max_features=log2;, score=0.900 total time=   0.1s\n",
            "[CV 2/5] END criterion=log_loss, max_depth=1, max_features=log2;, score=1.000 total time=   0.2s\n",
            "[CV 3/5] END criterion=log_loss, max_depth=1, max_features=log2;, score=0.950 total time=   0.2s\n",
            "[CV 4/5] END criterion=log_loss, max_depth=1, max_features=log2;, score=0.684 total time=   0.1s\n",
            "[CV 5/5] END criterion=log_loss, max_depth=1, max_features=log2;, score=0.895 total time=   0.1s\n",
            "[CV 1/5] END criterion=log_loss, max_depth=2, max_features=sqrt;, score=0.900 total time=   0.2s\n",
            "[CV 2/5] END criterion=log_loss, max_depth=2, max_features=sqrt;, score=0.900 total time=   0.1s\n",
            "[CV 3/5] END criterion=log_loss, max_depth=2, max_features=sqrt;, score=1.000 total time=   0.2s\n",
            "[CV 4/5] END criterion=log_loss, max_depth=2, max_features=sqrt;, score=1.000 total time=   0.2s\n",
            "[CV 5/5] END criterion=log_loss, max_depth=2, max_features=sqrt;, score=0.895 total time=   0.2s\n",
            "[CV 1/5] END criterion=log_loss, max_depth=2, max_features=log2;, score=0.900 total time=   0.2s\n",
            "[CV 2/5] END criterion=log_loss, max_depth=2, max_features=log2;, score=0.950 total time=   0.2s\n",
            "[CV 3/5] END criterion=log_loss, max_depth=2, max_features=log2;, score=1.000 total time=   0.1s\n",
            "[CV 4/5] END criterion=log_loss, max_depth=2, max_features=log2;, score=1.000 total time=   0.2s\n",
            "[CV 5/5] END criterion=log_loss, max_depth=2, max_features=log2;, score=0.895 total time=   0.1s\n",
            "[CV 1/5] END criterion=log_loss, max_depth=3, max_features=sqrt;, score=0.900 total time=   0.2s\n",
            "[CV 2/5] END criterion=log_loss, max_depth=3, max_features=sqrt;, score=0.950 total time=   0.1s\n",
            "[CV 3/5] END criterion=log_loss, max_depth=3, max_features=sqrt;, score=1.000 total time=   0.2s\n",
            "[CV 4/5] END criterion=log_loss, max_depth=3, max_features=sqrt;, score=1.000 total time=   0.2s\n",
            "[CV 5/5] END criterion=log_loss, max_depth=3, max_features=sqrt;, score=0.895 total time=   0.2s\n",
            "[CV 1/5] END criterion=log_loss, max_depth=3, max_features=log2;, score=0.900 total time=   0.1s\n",
            "[CV 2/5] END criterion=log_loss, max_depth=3, max_features=log2;, score=0.950 total time=   0.2s\n",
            "[CV 3/5] END criterion=log_loss, max_depth=3, max_features=log2;, score=1.000 total time=   0.2s\n",
            "[CV 4/5] END criterion=log_loss, max_depth=3, max_features=log2;, score=1.000 total time=   0.2s\n",
            "[CV 5/5] END criterion=log_loss, max_depth=3, max_features=log2;, score=0.895 total time=   0.1s\n",
            "[CV 1/5] END criterion=log_loss, max_depth=4, max_features=sqrt;, score=0.900 total time=   0.1s\n",
            "[CV 2/5] END criterion=log_loss, max_depth=4, max_features=sqrt;, score=0.950 total time=   0.2s\n",
            "[CV 3/5] END criterion=log_loss, max_depth=4, max_features=sqrt;, score=1.000 total time=   0.2s\n",
            "[CV 4/5] END criterion=log_loss, max_depth=4, max_features=sqrt;, score=1.000 total time=   0.2s\n",
            "[CV 5/5] END criterion=log_loss, max_depth=4, max_features=sqrt;, score=0.947 total time=   0.2s\n",
            "[CV 1/5] END criterion=log_loss, max_depth=4, max_features=log2;, score=0.900 total time=   0.1s\n",
            "[CV 2/5] END criterion=log_loss, max_depth=4, max_features=log2;, score=0.950 total time=   0.2s\n",
            "[CV 3/5] END criterion=log_loss, max_depth=4, max_features=log2;, score=1.000 total time=   0.1s\n",
            "[CV 4/5] END criterion=log_loss, max_depth=4, max_features=log2;, score=1.000 total time=   0.2s\n",
            "[CV 5/5] END criterion=log_loss, max_depth=4, max_features=log2;, score=0.947 total time=   0.1s\n",
            "[CV 1/5] END criterion=log_loss, max_depth=5, max_features=sqrt;, score=0.900 total time=   0.2s\n",
            "[CV 2/5] END criterion=log_loss, max_depth=5, max_features=sqrt;, score=0.950 total time=   0.1s\n",
            "[CV 3/5] END criterion=log_loss, max_depth=5, max_features=sqrt;, score=1.000 total time=   0.2s\n",
            "[CV 4/5] END criterion=log_loss, max_depth=5, max_features=sqrt;, score=1.000 total time=   0.1s\n",
            "[CV 5/5] END criterion=log_loss, max_depth=5, max_features=sqrt;, score=0.947 total time=   0.2s\n",
            "[CV 1/5] END criterion=log_loss, max_depth=5, max_features=log2;, score=0.900 total time=   0.2s\n",
            "[CV 2/5] END criterion=log_loss, max_depth=5, max_features=log2;, score=0.950 total time=   0.1s\n",
            "[CV 3/5] END criterion=log_loss, max_depth=5, max_features=log2;, score=1.000 total time=   0.2s\n",
            "[CV 4/5] END criterion=log_loss, max_depth=5, max_features=log2;, score=1.000 total time=   0.2s\n",
            "[CV 5/5] END criterion=log_loss, max_depth=5, max_features=log2;, score=0.947 total time=   0.1s\n",
            "[CV 1/5] END criterion=log_loss, max_depth=6, max_features=sqrt;, score=0.900 total time=   0.2s\n",
            "[CV 2/5] END criterion=log_loss, max_depth=6, max_features=sqrt;, score=0.950 total time=   0.1s\n",
            "[CV 3/5] END criterion=log_loss, max_depth=6, max_features=sqrt;, score=1.000 total time=   0.2s\n",
            "[CV 4/5] END criterion=log_loss, max_depth=6, max_features=sqrt;, score=1.000 total time=   0.2s\n",
            "[CV 5/5] END criterion=log_loss, max_depth=6, max_features=sqrt;, score=0.947 total time=   0.2s\n",
            "[CV 1/5] END criterion=log_loss, max_depth=6, max_features=log2;, score=0.900 total time=   0.1s\n",
            "[CV 2/5] END criterion=log_loss, max_depth=6, max_features=log2;, score=0.950 total time=   0.2s\n",
            "[CV 3/5] END criterion=log_loss, max_depth=6, max_features=log2;, score=1.000 total time=   0.2s\n",
            "[CV 4/5] END criterion=log_loss, max_depth=6, max_features=log2;, score=1.000 total time=   0.2s\n",
            "[CV 5/5] END criterion=log_loss, max_depth=6, max_features=log2;, score=0.947 total time=   0.1s\n",
            "[CV 1/5] END criterion=log_loss, max_depth=7, max_features=sqrt;, score=0.900 total time=   0.2s\n",
            "[CV 2/5] END criterion=log_loss, max_depth=7, max_features=sqrt;, score=0.950 total time=   0.3s\n",
            "[CV 3/5] END criterion=log_loss, max_depth=7, max_features=sqrt;, score=1.000 total time=   0.2s\n",
            "[CV 4/5] END criterion=log_loss, max_depth=7, max_features=sqrt;, score=1.000 total time=   0.2s\n",
            "[CV 5/5] END criterion=log_loss, max_depth=7, max_features=sqrt;, score=0.947 total time=   0.3s\n",
            "[CV 1/5] END criterion=log_loss, max_depth=7, max_features=log2;, score=0.900 total time=   0.2s\n",
            "[CV 2/5] END criterion=log_loss, max_depth=7, max_features=log2;, score=0.950 total time=   0.2s\n",
            "[CV 3/5] END criterion=log_loss, max_depth=7, max_features=log2;, score=1.000 total time=   0.2s\n",
            "[CV 4/5] END criterion=log_loss, max_depth=7, max_features=log2;, score=1.000 total time=   0.2s\n",
            "[CV 5/5] END criterion=log_loss, max_depth=7, max_features=log2;, score=0.947 total time=   0.2s\n",
            "[CV 1/5] END criterion=log_loss, max_depth=8, max_features=sqrt;, score=0.900 total time=   0.2s\n",
            "[CV 2/5] END criterion=log_loss, max_depth=8, max_features=sqrt;, score=0.950 total time=   0.2s\n",
            "[CV 3/5] END criterion=log_loss, max_depth=8, max_features=sqrt;, score=1.000 total time=   0.3s\n",
            "[CV 4/5] END criterion=log_loss, max_depth=8, max_features=sqrt;, score=1.000 total time=   0.2s\n",
            "[CV 5/5] END criterion=log_loss, max_depth=8, max_features=sqrt;, score=0.947 total time=   0.2s\n",
            "[CV 1/5] END criterion=log_loss, max_depth=8, max_features=log2;, score=0.900 total time=   0.2s\n",
            "[CV 2/5] END criterion=log_loss, max_depth=8, max_features=log2;, score=0.950 total time=   0.1s\n",
            "[CV 3/5] END criterion=log_loss, max_depth=8, max_features=log2;, score=1.000 total time=   0.1s\n",
            "[CV 4/5] END criterion=log_loss, max_depth=8, max_features=log2;, score=1.000 total time=   0.2s\n",
            "[CV 5/5] END criterion=log_loss, max_depth=8, max_features=log2;, score=0.947 total time=   0.2s\n",
            "[CV 1/5] END criterion=log_loss, max_depth=9, max_features=sqrt;, score=0.900 total time=   0.1s\n",
            "[CV 2/5] END criterion=log_loss, max_depth=9, max_features=sqrt;, score=0.950 total time=   0.2s\n",
            "[CV 3/5] END criterion=log_loss, max_depth=9, max_features=sqrt;, score=1.000 total time=   0.1s\n",
            "[CV 4/5] END criterion=log_loss, max_depth=9, max_features=sqrt;, score=1.000 total time=   0.2s\n",
            "[CV 5/5] END criterion=log_loss, max_depth=9, max_features=sqrt;, score=0.947 total time=   0.2s\n",
            "[CV 1/5] END criterion=log_loss, max_depth=9, max_features=log2;, score=0.900 total time=   0.2s\n",
            "[CV 2/5] END criterion=log_loss, max_depth=9, max_features=log2;, score=0.950 total time=   0.1s\n",
            "[CV 3/5] END criterion=log_loss, max_depth=9, max_features=log2;, score=1.000 total time=   0.2s\n",
            "[CV 4/5] END criterion=log_loss, max_depth=9, max_features=log2;, score=1.000 total time=   0.1s\n",
            "[CV 5/5] END criterion=log_loss, max_depth=9, max_features=log2;, score=0.947 total time=   0.1s\n",
            "[CV 1/5] END criterion=log_loss, max_depth=10, max_features=sqrt;, score=0.900 total time=   0.2s\n",
            "[CV 2/5] END criterion=log_loss, max_depth=10, max_features=sqrt;, score=0.950 total time=   0.2s\n",
            "[CV 3/5] END criterion=log_loss, max_depth=10, max_features=sqrt;, score=1.000 total time=   0.2s\n",
            "[CV 4/5] END criterion=log_loss, max_depth=10, max_features=sqrt;, score=1.000 total time=   0.2s\n",
            "[CV 5/5] END criterion=log_loss, max_depth=10, max_features=sqrt;, score=0.947 total time=   0.1s\n",
            "[CV 1/5] END criterion=log_loss, max_depth=10, max_features=log2;, score=0.900 total time=   0.2s\n",
            "[CV 2/5] END criterion=log_loss, max_depth=10, max_features=log2;, score=0.950 total time=   0.1s\n",
            "[CV 3/5] END criterion=log_loss, max_depth=10, max_features=log2;, score=1.000 total time=   0.2s\n",
            "[CV 4/5] END criterion=log_loss, max_depth=10, max_features=log2;, score=1.000 total time=   0.2s\n",
            "[CV 5/5] END criterion=log_loss, max_depth=10, max_features=log2;, score=0.947 total time=   0.2s\n"
          ]
        },
        {
          "output_type": "execute_result",
          "data": {
            "text/plain": [
              "GridSearchCV(cv=5, estimator=RandomForestClassifier(),\n",
              "             param_grid={'criterion': ['gini', 'entropy', 'log_loss'],\n",
              "                         'max_depth': [1, 2, 3, 4, 5, 6, 7, 8, 9, 10],\n",
              "                         'max_features': ['sqrt', 'log2']},\n",
              "             scoring='accuracy', verbose=3)"
            ],
            "text/html": [
              "<style>#sk-container-id-5 {color: black;background-color: white;}#sk-container-id-5 pre{padding: 0;}#sk-container-id-5 div.sk-toggleable {background-color: white;}#sk-container-id-5 label.sk-toggleable__label {cursor: pointer;display: block;width: 100%;margin-bottom: 0;padding: 0.3em;box-sizing: border-box;text-align: center;}#sk-container-id-5 label.sk-toggleable__label-arrow:before {content: \"▸\";float: left;margin-right: 0.25em;color: #696969;}#sk-container-id-5 label.sk-toggleable__label-arrow:hover:before {color: black;}#sk-container-id-5 div.sk-estimator:hover label.sk-toggleable__label-arrow:before {color: black;}#sk-container-id-5 div.sk-toggleable__content {max-height: 0;max-width: 0;overflow: hidden;text-align: left;background-color: #f0f8ff;}#sk-container-id-5 div.sk-toggleable__content pre {margin: 0.2em;color: black;border-radius: 0.25em;background-color: #f0f8ff;}#sk-container-id-5 input.sk-toggleable__control:checked~div.sk-toggleable__content {max-height: 200px;max-width: 100%;overflow: auto;}#sk-container-id-5 input.sk-toggleable__control:checked~label.sk-toggleable__label-arrow:before {content: \"▾\";}#sk-container-id-5 div.sk-estimator input.sk-toggleable__control:checked~label.sk-toggleable__label {background-color: #d4ebff;}#sk-container-id-5 div.sk-label input.sk-toggleable__control:checked~label.sk-toggleable__label {background-color: #d4ebff;}#sk-container-id-5 input.sk-hidden--visually {border: 0;clip: rect(1px 1px 1px 1px);clip: rect(1px, 1px, 1px, 1px);height: 1px;margin: -1px;overflow: hidden;padding: 0;position: absolute;width: 1px;}#sk-container-id-5 div.sk-estimator {font-family: monospace;background-color: #f0f8ff;border: 1px dotted black;border-radius: 0.25em;box-sizing: border-box;margin-bottom: 0.5em;}#sk-container-id-5 div.sk-estimator:hover {background-color: #d4ebff;}#sk-container-id-5 div.sk-parallel-item::after {content: \"\";width: 100%;border-bottom: 1px solid gray;flex-grow: 1;}#sk-container-id-5 div.sk-label:hover label.sk-toggleable__label {background-color: #d4ebff;}#sk-container-id-5 div.sk-serial::before {content: \"\";position: absolute;border-left: 1px solid gray;box-sizing: border-box;top: 0;bottom: 0;left: 50%;z-index: 0;}#sk-container-id-5 div.sk-serial {display: flex;flex-direction: column;align-items: center;background-color: white;padding-right: 0.2em;padding-left: 0.2em;position: relative;}#sk-container-id-5 div.sk-item {position: relative;z-index: 1;}#sk-container-id-5 div.sk-parallel {display: flex;align-items: stretch;justify-content: center;background-color: white;position: relative;}#sk-container-id-5 div.sk-item::before, #sk-container-id-5 div.sk-parallel-item::before {content: \"\";position: absolute;border-left: 1px solid gray;box-sizing: border-box;top: 0;bottom: 0;left: 50%;z-index: -1;}#sk-container-id-5 div.sk-parallel-item {display: flex;flex-direction: column;z-index: 1;position: relative;background-color: white;}#sk-container-id-5 div.sk-parallel-item:first-child::after {align-self: flex-end;width: 50%;}#sk-container-id-5 div.sk-parallel-item:last-child::after {align-self: flex-start;width: 50%;}#sk-container-id-5 div.sk-parallel-item:only-child::after {width: 0;}#sk-container-id-5 div.sk-dashed-wrapped {border: 1px dashed gray;margin: 0 0.4em 0.5em 0.4em;box-sizing: border-box;padding-bottom: 0.4em;background-color: white;}#sk-container-id-5 div.sk-label label {font-family: monospace;font-weight: bold;display: inline-block;line-height: 1.2em;}#sk-container-id-5 div.sk-label-container {text-align: center;}#sk-container-id-5 div.sk-container {/* jupyter's `normalize.less` sets `[hidden] { display: none; }` but bootstrap.min.css set `[hidden] { display: none !important; }` so we also need the `!important` here to be able to override the default hidden behavior on the sphinx rendered scikit-learn.org. See: https://github.com/scikit-learn/scikit-learn/issues/21755 */display: inline-block !important;position: relative;}#sk-container-id-5 div.sk-text-repr-fallback {display: none;}</style><div id=\"sk-container-id-5\" class=\"sk-top-container\"><div class=\"sk-text-repr-fallback\"><pre>GridSearchCV(cv=5, estimator=RandomForestClassifier(),\n",
              "             param_grid={&#x27;criterion&#x27;: [&#x27;gini&#x27;, &#x27;entropy&#x27;, &#x27;log_loss&#x27;],\n",
              "                         &#x27;max_depth&#x27;: [1, 2, 3, 4, 5, 6, 7, 8, 9, 10],\n",
              "                         &#x27;max_features&#x27;: [&#x27;sqrt&#x27;, &#x27;log2&#x27;]},\n",
              "             scoring=&#x27;accuracy&#x27;, verbose=3)</pre><b>In a Jupyter environment, please rerun this cell to show the HTML representation or trust the notebook. <br />On GitHub, the HTML representation is unable to render, please try loading this page with nbviewer.org.</b></div><div class=\"sk-container\" hidden><div class=\"sk-item sk-dashed-wrapped\"><div class=\"sk-label-container\"><div class=\"sk-label sk-toggleable\"><input class=\"sk-toggleable__control sk-hidden--visually\" id=\"sk-estimator-id-9\" type=\"checkbox\" ><label for=\"sk-estimator-id-9\" class=\"sk-toggleable__label sk-toggleable__label-arrow\">GridSearchCV</label><div class=\"sk-toggleable__content\"><pre>GridSearchCV(cv=5, estimator=RandomForestClassifier(),\n",
              "             param_grid={&#x27;criterion&#x27;: [&#x27;gini&#x27;, &#x27;entropy&#x27;, &#x27;log_loss&#x27;],\n",
              "                         &#x27;max_depth&#x27;: [1, 2, 3, 4, 5, 6, 7, 8, 9, 10],\n",
              "                         &#x27;max_features&#x27;: [&#x27;sqrt&#x27;, &#x27;log2&#x27;]},\n",
              "             scoring=&#x27;accuracy&#x27;, verbose=3)</pre></div></div></div><div class=\"sk-parallel\"><div class=\"sk-parallel-item\"><div class=\"sk-item\"><div class=\"sk-label-container\"><div class=\"sk-label sk-toggleable\"><input class=\"sk-toggleable__control sk-hidden--visually\" id=\"sk-estimator-id-10\" type=\"checkbox\" ><label for=\"sk-estimator-id-10\" class=\"sk-toggleable__label sk-toggleable__label-arrow\">estimator: RandomForestClassifier</label><div class=\"sk-toggleable__content\"><pre>RandomForestClassifier()</pre></div></div></div><div class=\"sk-serial\"><div class=\"sk-item\"><div class=\"sk-estimator sk-toggleable\"><input class=\"sk-toggleable__control sk-hidden--visually\" id=\"sk-estimator-id-11\" type=\"checkbox\" ><label for=\"sk-estimator-id-11\" class=\"sk-toggleable__label sk-toggleable__label-arrow\">RandomForestClassifier</label><div class=\"sk-toggleable__content\"><pre>RandomForestClassifier()</pre></div></div></div></div></div></div></div></div></div></div>"
            ]
          },
          "metadata": {},
          "execution_count": 139
        }
      ]
    },
    {
      "cell_type": "code",
      "source": [
        "y_pred1 = rfc1.predict(x_test)\n",
        "print(accuracy_score(y_pred1,y_test))\n",
        "print(sns.heatmap(confusion_matrix(y_pred1,y_test),annot=True))\n",
        "print(classification_report(y_pred1,y_test))"
      ],
      "metadata": {
        "colab": {
          "base_uri": "https://localhost:8080/",
          "height": 643
        },
        "id": "5joLw_obhZDr",
        "outputId": "751ca693-d71a-41e4-f86a-559eedc2ae85"
      },
      "execution_count": 141,
      "outputs": [
        {
          "output_type": "stream",
          "name": "stdout",
          "text": [
            "0.9591836734693877\n",
            "Axes(0.125,0.11;0.62x0.77)\n",
            "              precision    recall  f1-score   support\n",
            "\n",
            "           0       1.00      1.00      1.00        18\n",
            "           1       0.92      0.92      0.92        13\n",
            "           2       0.94      0.94      0.94        18\n",
            "\n",
            "    accuracy                           0.96        49\n",
            "   macro avg       0.96      0.96      0.96        49\n",
            "weighted avg       0.96      0.96      0.96        49\n",
            "\n"
          ]
        },
        {
          "output_type": "display_data",
          "data": {
            "text/plain": [
              "<Figure size 640x480 with 2 Axes>"
            ],
            "image/png": "[encoded data removed]"
          },
          "metadata": {}
        }
      ]
    },
    {
      "cell_type": "markdown",
      "source": [
        "**RandomForestClassifier : 95.91%**"
      ],
      "metadata": {
        "id": "E85jPRKci-uO"
      }
    },
    {
      "cell_type": "markdown",
      "source": [
        "#**Logistic Regression : 97.95%**\n",
        "#**RandomForestClassifier : 95.91%**\n",
        "#***So, We can Conclude that we use Logistic regression because it has more accuracy : 97.95%***"
      ],
      "metadata": {
        "id": "W0HOSjfRiNhb"
      }
    },
    {
      "cell_type": "code",
      "source": [],
      "metadata": {
        "id": "di1Xr7cSi8vu"
      },
      "execution_count": null,
      "outputs": []
    }
  ]
}